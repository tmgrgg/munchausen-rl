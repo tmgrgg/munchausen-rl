{
  "nbformat": 4,
  "nbformat_minor": 0,
  "metadata": {
    "accelerator": "GPU",
    "colab": {
      "name": "Munch_for_InstaDeep.ipynb",
      "provenance": [],
      "collapsed_sections": []
    },
    "kernelspec": {
      "display_name": "Python 3",
      "name": "python3"
    },
    "widgets": {
      "application/vnd.jupyter.widget-state+json": {
        "44948dc2f18f4f8f8b36e7687fa3de5c": {
          "model_module": "@jupyter-widgets/controls",
          "model_name": "HBoxModel",
          "state": {
            "_view_name": "HBoxView",
            "_dom_classes": [],
            "_model_name": "HBoxModel",
            "_view_module": "@jupyter-widgets/controls",
            "_model_module_version": "1.5.0",
            "_view_count": null,
            "_view_module_version": "1.5.0",
            "box_style": "",
            "layout": "IPY_MODEL_cf30683cf8f94325945aaeda54d88352",
            "_model_module": "@jupyter-widgets/controls",
            "children": [
              "IPY_MODEL_40dcff83fffd459883124ad79a9abdfb",
              "IPY_MODEL_3ebf76a72b6142c38cacef5eb9770de3"
            ]
          }
        },
        "cf30683cf8f94325945aaeda54d88352": {
          "model_module": "@jupyter-widgets/base",
          "model_name": "LayoutModel",
          "state": {
            "_view_name": "LayoutView",
            "grid_template_rows": null,
            "right": null,
            "justify_content": null,
            "_view_module": "@jupyter-widgets/base",
            "overflow": null,
            "_model_module_version": "1.2.0",
            "_view_count": null,
            "flex_flow": null,
            "width": null,
            "min_width": null,
            "border": null,
            "align_items": null,
            "bottom": null,
            "_model_module": "@jupyter-widgets/base",
            "top": null,
            "grid_column": null,
            "overflow_y": null,
            "overflow_x": null,
            "grid_auto_flow": null,
            "grid_area": null,
            "grid_template_columns": null,
            "flex": null,
            "_model_name": "LayoutModel",
            "justify_items": null,
            "grid_row": null,
            "max_height": null,
            "align_content": null,
            "visibility": null,
            "align_self": null,
            "height": null,
            "min_height": null,
            "padding": null,
            "grid_auto_rows": null,
            "grid_gap": null,
            "max_width": null,
            "order": null,
            "_view_module_version": "1.2.0",
            "grid_template_areas": null,
            "object_position": null,
            "object_fit": null,
            "grid_auto_columns": null,
            "margin": null,
            "display": null,
            "left": null
          }
        },
        "40dcff83fffd459883124ad79a9abdfb": {
          "model_module": "@jupyter-widgets/controls",
          "model_name": "FloatProgressModel",
          "state": {
            "_view_name": "ProgressView",
            "style": "IPY_MODEL_60e829274fcf442c936ff1e60ab010f7",
            "_dom_classes": [],
            "description": "100%",
            "_model_name": "FloatProgressModel",
            "bar_style": "success",
            "max": 3,
            "_view_module": "@jupyter-widgets/controls",
            "_model_module_version": "1.5.0",
            "value": 3,
            "_view_count": null,
            "_view_module_version": "1.5.0",
            "orientation": "horizontal",
            "min": 0,
            "description_tooltip": null,
            "_model_module": "@jupyter-widgets/controls",
            "layout": "IPY_MODEL_d76d4069210b420a8bc1f770ebaec8c4"
          }
        },
        "3ebf76a72b6142c38cacef5eb9770de3": {
          "model_module": "@jupyter-widgets/controls",
          "model_name": "HTMLModel",
          "state": {
            "_view_name": "HTMLView",
            "style": "IPY_MODEL_eb9fce61c209476a8d7cb08a8b82ebe4",
            "_dom_classes": [],
            "description": "",
            "_model_name": "HTMLModel",
            "placeholder": "​",
            "_view_module": "@jupyter-widgets/controls",
            "_model_module_version": "1.5.0",
            "value": " 3/3 [56:23&lt;00:00, 1127.89s/it]",
            "_view_count": null,
            "_view_module_version": "1.5.0",
            "description_tooltip": null,
            "_model_module": "@jupyter-widgets/controls",
            "layout": "IPY_MODEL_04f941e69cb348af83eb20c7a8d9eed8"
          }
        },
        "60e829274fcf442c936ff1e60ab010f7": {
          "model_module": "@jupyter-widgets/controls",
          "model_name": "ProgressStyleModel",
          "state": {
            "_view_name": "StyleView",
            "_model_name": "ProgressStyleModel",
            "description_width": "initial",
            "_view_module": "@jupyter-widgets/base",
            "_model_module_version": "1.5.0",
            "_view_count": null,
            "_view_module_version": "1.2.0",
            "bar_color": null,
            "_model_module": "@jupyter-widgets/controls"
          }
        },
        "d76d4069210b420a8bc1f770ebaec8c4": {
          "model_module": "@jupyter-widgets/base",
          "model_name": "LayoutModel",
          "state": {
            "_view_name": "LayoutView",
            "grid_template_rows": null,
            "right": null,
            "justify_content": null,
            "_view_module": "@jupyter-widgets/base",
            "overflow": null,
            "_model_module_version": "1.2.0",
            "_view_count": null,
            "flex_flow": null,
            "width": null,
            "min_width": null,
            "border": null,
            "align_items": null,
            "bottom": null,
            "_model_module": "@jupyter-widgets/base",
            "top": null,
            "grid_column": null,
            "overflow_y": null,
            "overflow_x": null,
            "grid_auto_flow": null,
            "grid_area": null,
            "grid_template_columns": null,
            "flex": null,
            "_model_name": "LayoutModel",
            "justify_items": null,
            "grid_row": null,
            "max_height": null,
            "align_content": null,
            "visibility": null,
            "align_self": null,
            "height": null,
            "min_height": null,
            "padding": null,
            "grid_auto_rows": null,
            "grid_gap": null,
            "max_width": null,
            "order": null,
            "_view_module_version": "1.2.0",
            "grid_template_areas": null,
            "object_position": null,
            "object_fit": null,
            "grid_auto_columns": null,
            "margin": null,
            "display": null,
            "left": null
          }
        },
        "eb9fce61c209476a8d7cb08a8b82ebe4": {
          "model_module": "@jupyter-widgets/controls",
          "model_name": "DescriptionStyleModel",
          "state": {
            "_view_name": "StyleView",
            "_model_name": "DescriptionStyleModel",
            "description_width": "",
            "_view_module": "@jupyter-widgets/base",
            "_model_module_version": "1.5.0",
            "_view_count": null,
            "_view_module_version": "1.2.0",
            "_model_module": "@jupyter-widgets/controls"
          }
        },
        "04f941e69cb348af83eb20c7a8d9eed8": {
          "model_module": "@jupyter-widgets/base",
          "model_name": "LayoutModel",
          "state": {
            "_view_name": "LayoutView",
            "grid_template_rows": null,
            "right": null,
            "justify_content": null,
            "_view_module": "@jupyter-widgets/base",
            "overflow": null,
            "_model_module_version": "1.2.0",
            "_view_count": null,
            "flex_flow": null,
            "width": null,
            "min_width": null,
            "border": null,
            "align_items": null,
            "bottom": null,
            "_model_module": "@jupyter-widgets/base",
            "top": null,
            "grid_column": null,
            "overflow_y": null,
            "overflow_x": null,
            "grid_auto_flow": null,
            "grid_area": null,
            "grid_template_columns": null,
            "flex": null,
            "_model_name": "LayoutModel",
            "justify_items": null,
            "grid_row": null,
            "max_height": null,
            "align_content": null,
            "visibility": null,
            "align_self": null,
            "height": null,
            "min_height": null,
            "padding": null,
            "grid_auto_rows": null,
            "grid_gap": null,
            "max_width": null,
            "order": null,
            "_view_module_version": "1.2.0",
            "grid_template_areas": null,
            "object_position": null,
            "object_fit": null,
            "grid_auto_columns": null,
            "margin": null,
            "display": null,
            "left": null
          }
        },
        "e5b97ec7fea74214acb1cccae4ba1961": {
          "model_module": "@jupyter-widgets/controls",
          "model_name": "HBoxModel",
          "state": {
            "_view_name": "HBoxView",
            "_dom_classes": [],
            "_model_name": "HBoxModel",
            "_view_module": "@jupyter-widgets/controls",
            "_model_module_version": "1.5.0",
            "_view_count": null,
            "_view_module_version": "1.5.0",
            "box_style": "",
            "layout": "IPY_MODEL_4f21231c7fb147f7a41d902032409c93",
            "_model_module": "@jupyter-widgets/controls",
            "children": [
              "IPY_MODEL_0e90dbcd4cc84f50ba16d8872ff78f67",
              "IPY_MODEL_08998fa5cc0841e4a507f8faf0eca599"
            ]
          }
        },
        "4f21231c7fb147f7a41d902032409c93": {
          "model_module": "@jupyter-widgets/base",
          "model_name": "LayoutModel",
          "state": {
            "_view_name": "LayoutView",
            "grid_template_rows": null,
            "right": null,
            "justify_content": null,
            "_view_module": "@jupyter-widgets/base",
            "overflow": null,
            "_model_module_version": "1.2.0",
            "_view_count": null,
            "flex_flow": null,
            "width": null,
            "min_width": null,
            "border": null,
            "align_items": null,
            "bottom": null,
            "_model_module": "@jupyter-widgets/base",
            "top": null,
            "grid_column": null,
            "overflow_y": null,
            "overflow_x": null,
            "grid_auto_flow": null,
            "grid_area": null,
            "grid_template_columns": null,
            "flex": null,
            "_model_name": "LayoutModel",
            "justify_items": null,
            "grid_row": null,
            "max_height": null,
            "align_content": null,
            "visibility": null,
            "align_self": null,
            "height": null,
            "min_height": null,
            "padding": null,
            "grid_auto_rows": null,
            "grid_gap": null,
            "max_width": null,
            "order": null,
            "_view_module_version": "1.2.0",
            "grid_template_areas": null,
            "object_position": null,
            "object_fit": null,
            "grid_auto_columns": null,
            "margin": null,
            "display": null,
            "left": null
          }
        },
        "0e90dbcd4cc84f50ba16d8872ff78f67": {
          "model_module": "@jupyter-widgets/controls",
          "model_name": "FloatProgressModel",
          "state": {
            "_view_name": "ProgressView",
            "style": "IPY_MODEL_ce7011edadee461ea7f2523b1d310d22",
            "_dom_classes": [],
            "description": "100%",
            "_model_name": "FloatProgressModel",
            "bar_style": "success",
            "max": 5,
            "_view_module": "@jupyter-widgets/controls",
            "_model_module_version": "1.5.0",
            "value": 5,
            "_view_count": null,
            "_view_module_version": "1.5.0",
            "orientation": "horizontal",
            "min": 0,
            "description_tooltip": null,
            "_model_module": "@jupyter-widgets/controls",
            "layout": "IPY_MODEL_3de83e0495ef4603a589e691ddb9472e"
          }
        },
        "08998fa5cc0841e4a507f8faf0eca599": {
          "model_module": "@jupyter-widgets/controls",
          "model_name": "HTMLModel",
          "state": {
            "_view_name": "HTMLView",
            "style": "IPY_MODEL_12a6ccf3e7cb4524ac798b0642c88b31",
            "_dom_classes": [],
            "description": "",
            "_model_name": "HTMLModel",
            "placeholder": "​",
            "_view_module": "@jupyter-widgets/controls",
            "_model_module_version": "1.5.0",
            "value": " 5/5 [07:06&lt;00:00, 85.21s/it]",
            "_view_count": null,
            "_view_module_version": "1.5.0",
            "description_tooltip": null,
            "_model_module": "@jupyter-widgets/controls",
            "layout": "IPY_MODEL_679dcaf4943f457696446c473e7a3ec4"
          }
        },
        "ce7011edadee461ea7f2523b1d310d22": {
          "model_module": "@jupyter-widgets/controls",
          "model_name": "ProgressStyleModel",
          "state": {
            "_view_name": "StyleView",
            "_model_name": "ProgressStyleModel",
            "description_width": "initial",
            "_view_module": "@jupyter-widgets/base",
            "_model_module_version": "1.5.0",
            "_view_count": null,
            "_view_module_version": "1.2.0",
            "bar_color": null,
            "_model_module": "@jupyter-widgets/controls"
          }
        },
        "3de83e0495ef4603a589e691ddb9472e": {
          "model_module": "@jupyter-widgets/base",
          "model_name": "LayoutModel",
          "state": {
            "_view_name": "LayoutView",
            "grid_template_rows": null,
            "right": null,
            "justify_content": null,
            "_view_module": "@jupyter-widgets/base",
            "overflow": null,
            "_model_module_version": "1.2.0",
            "_view_count": null,
            "flex_flow": null,
            "width": null,
            "min_width": null,
            "border": null,
            "align_items": null,
            "bottom": null,
            "_model_module": "@jupyter-widgets/base",
            "top": null,
            "grid_column": null,
            "overflow_y": null,
            "overflow_x": null,
            "grid_auto_flow": null,
            "grid_area": null,
            "grid_template_columns": null,
            "flex": null,
            "_model_name": "LayoutModel",
            "justify_items": null,
            "grid_row": null,
            "max_height": null,
            "align_content": null,
            "visibility": null,
            "align_self": null,
            "height": null,
            "min_height": null,
            "padding": null,
            "grid_auto_rows": null,
            "grid_gap": null,
            "max_width": null,
            "order": null,
            "_view_module_version": "1.2.0",
            "grid_template_areas": null,
            "object_position": null,
            "object_fit": null,
            "grid_auto_columns": null,
            "margin": null,
            "display": null,
            "left": null
          }
        },
        "12a6ccf3e7cb4524ac798b0642c88b31": {
          "model_module": "@jupyter-widgets/controls",
          "model_name": "DescriptionStyleModel",
          "state": {
            "_view_name": "StyleView",
            "_model_name": "DescriptionStyleModel",
            "description_width": "",
            "_view_module": "@jupyter-widgets/base",
            "_model_module_version": "1.5.0",
            "_view_count": null,
            "_view_module_version": "1.2.0",
            "_model_module": "@jupyter-widgets/controls"
          }
        },
        "679dcaf4943f457696446c473e7a3ec4": {
          "model_module": "@jupyter-widgets/base",
          "model_name": "LayoutModel",
          "state": {
            "_view_name": "LayoutView",
            "grid_template_rows": null,
            "right": null,
            "justify_content": null,
            "_view_module": "@jupyter-widgets/base",
            "overflow": null,
            "_model_module_version": "1.2.0",
            "_view_count": null,
            "flex_flow": null,
            "width": null,
            "min_width": null,
            "border": null,
            "align_items": null,
            "bottom": null,
            "_model_module": "@jupyter-widgets/base",
            "top": null,
            "grid_column": null,
            "overflow_y": null,
            "overflow_x": null,
            "grid_auto_flow": null,
            "grid_area": null,
            "grid_template_columns": null,
            "flex": null,
            "_model_name": "LayoutModel",
            "justify_items": null,
            "grid_row": null,
            "max_height": null,
            "align_content": null,
            "visibility": null,
            "align_self": null,
            "height": null,
            "min_height": null,
            "padding": null,
            "grid_auto_rows": null,
            "grid_gap": null,
            "max_width": null,
            "order": null,
            "_view_module_version": "1.2.0",
            "grid_template_areas": null,
            "object_position": null,
            "object_fit": null,
            "grid_auto_columns": null,
            "margin": null,
            "display": null,
            "left": null
          }
        },
        "b8b25bf86fa140f3bdabb066d578a566": {
          "model_module": "@jupyter-widgets/controls",
          "model_name": "HBoxModel",
          "state": {
            "_view_name": "HBoxView",
            "_dom_classes": [],
            "_model_name": "HBoxModel",
            "_view_module": "@jupyter-widgets/controls",
            "_model_module_version": "1.5.0",
            "_view_count": null,
            "_view_module_version": "1.5.0",
            "box_style": "",
            "layout": "IPY_MODEL_33667d51bd384b41a5da592de9f3af83",
            "_model_module": "@jupyter-widgets/controls",
            "children": [
              "IPY_MODEL_32dfc56a45e44293935fb79c538b1ddf",
              "IPY_MODEL_ee9335419a7442f79c5b96bb6f5779f2"
            ]
          }
        },
        "33667d51bd384b41a5da592de9f3af83": {
          "model_module": "@jupyter-widgets/base",
          "model_name": "LayoutModel",
          "state": {
            "_view_name": "LayoutView",
            "grid_template_rows": null,
            "right": null,
            "justify_content": null,
            "_view_module": "@jupyter-widgets/base",
            "overflow": null,
            "_model_module_version": "1.2.0",
            "_view_count": null,
            "flex_flow": null,
            "width": null,
            "min_width": null,
            "border": null,
            "align_items": null,
            "bottom": null,
            "_model_module": "@jupyter-widgets/base",
            "top": null,
            "grid_column": null,
            "overflow_y": null,
            "overflow_x": null,
            "grid_auto_flow": null,
            "grid_area": null,
            "grid_template_columns": null,
            "flex": null,
            "_model_name": "LayoutModel",
            "justify_items": null,
            "grid_row": null,
            "max_height": null,
            "align_content": null,
            "visibility": null,
            "align_self": null,
            "height": null,
            "min_height": null,
            "padding": null,
            "grid_auto_rows": null,
            "grid_gap": null,
            "max_width": null,
            "order": null,
            "_view_module_version": "1.2.0",
            "grid_template_areas": null,
            "object_position": null,
            "object_fit": null,
            "grid_auto_columns": null,
            "margin": null,
            "display": null,
            "left": null
          }
        },
        "32dfc56a45e44293935fb79c538b1ddf": {
          "model_module": "@jupyter-widgets/controls",
          "model_name": "FloatProgressModel",
          "state": {
            "_view_name": "ProgressView",
            "style": "IPY_MODEL_403294c277f54d59a3dbb63908985ce7",
            "_dom_classes": [],
            "description": "100%",
            "_model_name": "FloatProgressModel",
            "bar_style": "success",
            "max": 5,
            "_view_module": "@jupyter-widgets/controls",
            "_model_module_version": "1.5.0",
            "value": 5,
            "_view_count": null,
            "_view_module_version": "1.5.0",
            "orientation": "horizontal",
            "min": 0,
            "description_tooltip": null,
            "_model_module": "@jupyter-widgets/controls",
            "layout": "IPY_MODEL_3ad1c5ccbb0b48fcb5518af9c893b54b"
          }
        },
        "ee9335419a7442f79c5b96bb6f5779f2": {
          "model_module": "@jupyter-widgets/controls",
          "model_name": "HTMLModel",
          "state": {
            "_view_name": "HTMLView",
            "style": "IPY_MODEL_8d4f6a432f524566b9769f69b03535db",
            "_dom_classes": [],
            "description": "",
            "_model_name": "HTMLModel",
            "placeholder": "​",
            "_view_module": "@jupyter-widgets/controls",
            "_model_module_version": "1.5.0",
            "value": " 5/5 [04:48&lt;00:00, 57.63s/it]",
            "_view_count": null,
            "_view_module_version": "1.5.0",
            "description_tooltip": null,
            "_model_module": "@jupyter-widgets/controls",
            "layout": "IPY_MODEL_0650988178b9466bbccd67a64179f533"
          }
        },
        "403294c277f54d59a3dbb63908985ce7": {
          "model_module": "@jupyter-widgets/controls",
          "model_name": "ProgressStyleModel",
          "state": {
            "_view_name": "StyleView",
            "_model_name": "ProgressStyleModel",
            "description_width": "initial",
            "_view_module": "@jupyter-widgets/base",
            "_model_module_version": "1.5.0",
            "_view_count": null,
            "_view_module_version": "1.2.0",
            "bar_color": null,
            "_model_module": "@jupyter-widgets/controls"
          }
        },
        "3ad1c5ccbb0b48fcb5518af9c893b54b": {
          "model_module": "@jupyter-widgets/base",
          "model_name": "LayoutModel",
          "state": {
            "_view_name": "LayoutView",
            "grid_template_rows": null,
            "right": null,
            "justify_content": null,
            "_view_module": "@jupyter-widgets/base",
            "overflow": null,
            "_model_module_version": "1.2.0",
            "_view_count": null,
            "flex_flow": null,
            "width": null,
            "min_width": null,
            "border": null,
            "align_items": null,
            "bottom": null,
            "_model_module": "@jupyter-widgets/base",
            "top": null,
            "grid_column": null,
            "overflow_y": null,
            "overflow_x": null,
            "grid_auto_flow": null,
            "grid_area": null,
            "grid_template_columns": null,
            "flex": null,
            "_model_name": "LayoutModel",
            "justify_items": null,
            "grid_row": null,
            "max_height": null,
            "align_content": null,
            "visibility": null,
            "align_self": null,
            "height": null,
            "min_height": null,
            "padding": null,
            "grid_auto_rows": null,
            "grid_gap": null,
            "max_width": null,
            "order": null,
            "_view_module_version": "1.2.0",
            "grid_template_areas": null,
            "object_position": null,
            "object_fit": null,
            "grid_auto_columns": null,
            "margin": null,
            "display": null,
            "left": null
          }
        },
        "8d4f6a432f524566b9769f69b03535db": {
          "model_module": "@jupyter-widgets/controls",
          "model_name": "DescriptionStyleModel",
          "state": {
            "_view_name": "StyleView",
            "_model_name": "DescriptionStyleModel",
            "description_width": "",
            "_view_module": "@jupyter-widgets/base",
            "_model_module_version": "1.5.0",
            "_view_count": null,
            "_view_module_version": "1.2.0",
            "_model_module": "@jupyter-widgets/controls"
          }
        },
        "0650988178b9466bbccd67a64179f533": {
          "model_module": "@jupyter-widgets/base",
          "model_name": "LayoutModel",
          "state": {
            "_view_name": "LayoutView",
            "grid_template_rows": null,
            "right": null,
            "justify_content": null,
            "_view_module": "@jupyter-widgets/base",
            "overflow": null,
            "_model_module_version": "1.2.0",
            "_view_count": null,
            "flex_flow": null,
            "width": null,
            "min_width": null,
            "border": null,
            "align_items": null,
            "bottom": null,
            "_model_module": "@jupyter-widgets/base",
            "top": null,
            "grid_column": null,
            "overflow_y": null,
            "overflow_x": null,
            "grid_auto_flow": null,
            "grid_area": null,
            "grid_template_columns": null,
            "flex": null,
            "_model_name": "LayoutModel",
            "justify_items": null,
            "grid_row": null,
            "max_height": null,
            "align_content": null,
            "visibility": null,
            "align_self": null,
            "height": null,
            "min_height": null,
            "padding": null,
            "grid_auto_rows": null,
            "grid_gap": null,
            "max_width": null,
            "order": null,
            "_view_module_version": "1.2.0",
            "grid_template_areas": null,
            "object_position": null,
            "object_fit": null,
            "grid_auto_columns": null,
            "margin": null,
            "display": null,
            "left": null
          }
        },
        "7035cc385e144309bda0fad2483519b8": {
          "model_module": "@jupyter-widgets/controls",
          "model_name": "HBoxModel",
          "state": {
            "_view_name": "HBoxView",
            "_dom_classes": [],
            "_model_name": "HBoxModel",
            "_view_module": "@jupyter-widgets/controls",
            "_model_module_version": "1.5.0",
            "_view_count": null,
            "_view_module_version": "1.5.0",
            "box_style": "",
            "layout": "IPY_MODEL_82aaef71e39746908bcd860bb75f9434",
            "_model_module": "@jupyter-widgets/controls",
            "children": [
              "IPY_MODEL_a9dc0c523b054c34a83fb5f8a5e23434",
              "IPY_MODEL_830956f26ca14cc884abcc085fd89f8b"
            ]
          }
        },
        "82aaef71e39746908bcd860bb75f9434": {
          "model_module": "@jupyter-widgets/base",
          "model_name": "LayoutModel",
          "state": {
            "_view_name": "LayoutView",
            "grid_template_rows": null,
            "right": null,
            "justify_content": null,
            "_view_module": "@jupyter-widgets/base",
            "overflow": null,
            "_model_module_version": "1.2.0",
            "_view_count": null,
            "flex_flow": null,
            "width": null,
            "min_width": null,
            "border": null,
            "align_items": null,
            "bottom": null,
            "_model_module": "@jupyter-widgets/base",
            "top": null,
            "grid_column": null,
            "overflow_y": null,
            "overflow_x": null,
            "grid_auto_flow": null,
            "grid_area": null,
            "grid_template_columns": null,
            "flex": null,
            "_model_name": "LayoutModel",
            "justify_items": null,
            "grid_row": null,
            "max_height": null,
            "align_content": null,
            "visibility": null,
            "align_self": null,
            "height": null,
            "min_height": null,
            "padding": null,
            "grid_auto_rows": null,
            "grid_gap": null,
            "max_width": null,
            "order": null,
            "_view_module_version": "1.2.0",
            "grid_template_areas": null,
            "object_position": null,
            "object_fit": null,
            "grid_auto_columns": null,
            "margin": null,
            "display": null,
            "left": null
          }
        },
        "a9dc0c523b054c34a83fb5f8a5e23434": {
          "model_module": "@jupyter-widgets/controls",
          "model_name": "FloatProgressModel",
          "state": {
            "_view_name": "ProgressView",
            "style": "IPY_MODEL_97c65d81e7f34493922ac28ab4bb436d",
            "_dom_classes": [],
            "description": "100%",
            "_model_name": "FloatProgressModel",
            "bar_style": "success",
            "max": 5,
            "_view_module": "@jupyter-widgets/controls",
            "_model_module_version": "1.5.0",
            "value": 5,
            "_view_count": null,
            "_view_module_version": "1.5.0",
            "orientation": "horizontal",
            "min": 0,
            "description_tooltip": null,
            "_model_module": "@jupyter-widgets/controls",
            "layout": "IPY_MODEL_3e2f7e14e8e94474bf08fbeae8c6259d"
          }
        },
        "830956f26ca14cc884abcc085fd89f8b": {
          "model_module": "@jupyter-widgets/controls",
          "model_name": "HTMLModel",
          "state": {
            "_view_name": "HTMLView",
            "style": "IPY_MODEL_844789daa8d54201881e16df72f9dea3",
            "_dom_classes": [],
            "description": "",
            "_model_name": "HTMLModel",
            "placeholder": "​",
            "_view_module": "@jupyter-widgets/controls",
            "_model_module_version": "1.5.0",
            "value": " 5/5 [51:50&lt;00:00, 622.02s/it]",
            "_view_count": null,
            "_view_module_version": "1.5.0",
            "description_tooltip": null,
            "_model_module": "@jupyter-widgets/controls",
            "layout": "IPY_MODEL_ed3a1a8940b84686b455507a7d282c5d"
          }
        },
        "97c65d81e7f34493922ac28ab4bb436d": {
          "model_module": "@jupyter-widgets/controls",
          "model_name": "ProgressStyleModel",
          "state": {
            "_view_name": "StyleView",
            "_model_name": "ProgressStyleModel",
            "description_width": "initial",
            "_view_module": "@jupyter-widgets/base",
            "_model_module_version": "1.5.0",
            "_view_count": null,
            "_view_module_version": "1.2.0",
            "bar_color": null,
            "_model_module": "@jupyter-widgets/controls"
          }
        },
        "3e2f7e14e8e94474bf08fbeae8c6259d": {
          "model_module": "@jupyter-widgets/base",
          "model_name": "LayoutModel",
          "state": {
            "_view_name": "LayoutView",
            "grid_template_rows": null,
            "right": null,
            "justify_content": null,
            "_view_module": "@jupyter-widgets/base",
            "overflow": null,
            "_model_module_version": "1.2.0",
            "_view_count": null,
            "flex_flow": null,
            "width": null,
            "min_width": null,
            "border": null,
            "align_items": null,
            "bottom": null,
            "_model_module": "@jupyter-widgets/base",
            "top": null,
            "grid_column": null,
            "overflow_y": null,
            "overflow_x": null,
            "grid_auto_flow": null,
            "grid_area": null,
            "grid_template_columns": null,
            "flex": null,
            "_model_name": "LayoutModel",
            "justify_items": null,
            "grid_row": null,
            "max_height": null,
            "align_content": null,
            "visibility": null,
            "align_self": null,
            "height": null,
            "min_height": null,
            "padding": null,
            "grid_auto_rows": null,
            "grid_gap": null,
            "max_width": null,
            "order": null,
            "_view_module_version": "1.2.0",
            "grid_template_areas": null,
            "object_position": null,
            "object_fit": null,
            "grid_auto_columns": null,
            "margin": null,
            "display": null,
            "left": null
          }
        },
        "844789daa8d54201881e16df72f9dea3": {
          "model_module": "@jupyter-widgets/controls",
          "model_name": "DescriptionStyleModel",
          "state": {
            "_view_name": "StyleView",
            "_model_name": "DescriptionStyleModel",
            "description_width": "",
            "_view_module": "@jupyter-widgets/base",
            "_model_module_version": "1.5.0",
            "_view_count": null,
            "_view_module_version": "1.2.0",
            "_model_module": "@jupyter-widgets/controls"
          }
        },
        "ed3a1a8940b84686b455507a7d282c5d": {
          "model_module": "@jupyter-widgets/base",
          "model_name": "LayoutModel",
          "state": {
            "_view_name": "LayoutView",
            "grid_template_rows": null,
            "right": null,
            "justify_content": null,
            "_view_module": "@jupyter-widgets/base",
            "overflow": null,
            "_model_module_version": "1.2.0",
            "_view_count": null,
            "flex_flow": null,
            "width": null,
            "min_width": null,
            "border": null,
            "align_items": null,
            "bottom": null,
            "_model_module": "@jupyter-widgets/base",
            "top": null,
            "grid_column": null,
            "overflow_y": null,
            "overflow_x": null,
            "grid_auto_flow": null,
            "grid_area": null,
            "grid_template_columns": null,
            "flex": null,
            "_model_name": "LayoutModel",
            "justify_items": null,
            "grid_row": null,
            "max_height": null,
            "align_content": null,
            "visibility": null,
            "align_self": null,
            "height": null,
            "min_height": null,
            "padding": null,
            "grid_auto_rows": null,
            "grid_gap": null,
            "max_width": null,
            "order": null,
            "_view_module_version": "1.2.0",
            "grid_template_areas": null,
            "object_position": null,
            "object_fit": null,
            "grid_auto_columns": null,
            "margin": null,
            "display": null,
            "left": null
          }
        },
        "6b2fd4b8d3174e3393b485177861022d": {
          "model_module": "@jupyter-widgets/controls",
          "model_name": "HBoxModel",
          "state": {
            "_view_name": "HBoxView",
            "_dom_classes": [],
            "_model_name": "HBoxModel",
            "_view_module": "@jupyter-widgets/controls",
            "_model_module_version": "1.5.0",
            "_view_count": null,
            "_view_module_version": "1.5.0",
            "box_style": "",
            "layout": "IPY_MODEL_d6123281cbf544229d8ca42e6e300040",
            "_model_module": "@jupyter-widgets/controls",
            "children": [
              "IPY_MODEL_06ee4dc0f69440a0898a46b1b4ecae46",
              "IPY_MODEL_5ae777931f8d40f0850083e38cbe5b00"
            ]
          }
        },
        "d6123281cbf544229d8ca42e6e300040": {
          "model_module": "@jupyter-widgets/base",
          "model_name": "LayoutModel",
          "state": {
            "_view_name": "LayoutView",
            "grid_template_rows": null,
            "right": null,
            "justify_content": null,
            "_view_module": "@jupyter-widgets/base",
            "overflow": null,
            "_model_module_version": "1.2.0",
            "_view_count": null,
            "flex_flow": null,
            "width": null,
            "min_width": null,
            "border": null,
            "align_items": null,
            "bottom": null,
            "_model_module": "@jupyter-widgets/base",
            "top": null,
            "grid_column": null,
            "overflow_y": null,
            "overflow_x": null,
            "grid_auto_flow": null,
            "grid_area": null,
            "grid_template_columns": null,
            "flex": null,
            "_model_name": "LayoutModel",
            "justify_items": null,
            "grid_row": null,
            "max_height": null,
            "align_content": null,
            "visibility": null,
            "align_self": null,
            "height": null,
            "min_height": null,
            "padding": null,
            "grid_auto_rows": null,
            "grid_gap": null,
            "max_width": null,
            "order": null,
            "_view_module_version": "1.2.0",
            "grid_template_areas": null,
            "object_position": null,
            "object_fit": null,
            "grid_auto_columns": null,
            "margin": null,
            "display": null,
            "left": null
          }
        },
        "06ee4dc0f69440a0898a46b1b4ecae46": {
          "model_module": "@jupyter-widgets/controls",
          "model_name": "FloatProgressModel",
          "state": {
            "_view_name": "ProgressView",
            "style": "IPY_MODEL_4b4c0d794fd842ef9b41f2006b9f5103",
            "_dom_classes": [],
            "description": "100%",
            "_model_name": "FloatProgressModel",
            "bar_style": "success",
            "max": 3,
            "_view_module": "@jupyter-widgets/controls",
            "_model_module_version": "1.5.0",
            "value": 3,
            "_view_count": null,
            "_view_module_version": "1.5.0",
            "orientation": "horizontal",
            "min": 0,
            "description_tooltip": null,
            "_model_module": "@jupyter-widgets/controls",
            "layout": "IPY_MODEL_254b27305652480283cd41e3fedf7a03"
          }
        },
        "5ae777931f8d40f0850083e38cbe5b00": {
          "model_module": "@jupyter-widgets/controls",
          "model_name": "HTMLModel",
          "state": {
            "_view_name": "HTMLView",
            "style": "IPY_MODEL_a7356240993941b4906c4ff15b35bb93",
            "_dom_classes": [],
            "description": "",
            "_model_name": "HTMLModel",
            "placeholder": "​",
            "_view_module": "@jupyter-widgets/controls",
            "_model_module_version": "1.5.0",
            "value": " 3/3 [27:20&lt;00:00, 546.75s/it]",
            "_view_count": null,
            "_view_module_version": "1.5.0",
            "description_tooltip": null,
            "_model_module": "@jupyter-widgets/controls",
            "layout": "IPY_MODEL_e1b427bd8008413fba02f93696c0f4c9"
          }
        },
        "4b4c0d794fd842ef9b41f2006b9f5103": {
          "model_module": "@jupyter-widgets/controls",
          "model_name": "ProgressStyleModel",
          "state": {
            "_view_name": "StyleView",
            "_model_name": "ProgressStyleModel",
            "description_width": "initial",
            "_view_module": "@jupyter-widgets/base",
            "_model_module_version": "1.5.0",
            "_view_count": null,
            "_view_module_version": "1.2.0",
            "bar_color": null,
            "_model_module": "@jupyter-widgets/controls"
          }
        },
        "254b27305652480283cd41e3fedf7a03": {
          "model_module": "@jupyter-widgets/base",
          "model_name": "LayoutModel",
          "state": {
            "_view_name": "LayoutView",
            "grid_template_rows": null,
            "right": null,
            "justify_content": null,
            "_view_module": "@jupyter-widgets/base",
            "overflow": null,
            "_model_module_version": "1.2.0",
            "_view_count": null,
            "flex_flow": null,
            "width": null,
            "min_width": null,
            "border": null,
            "align_items": null,
            "bottom": null,
            "_model_module": "@jupyter-widgets/base",
            "top": null,
            "grid_column": null,
            "overflow_y": null,
            "overflow_x": null,
            "grid_auto_flow": null,
            "grid_area": null,
            "grid_template_columns": null,
            "flex": null,
            "_model_name": "LayoutModel",
            "justify_items": null,
            "grid_row": null,
            "max_height": null,
            "align_content": null,
            "visibility": null,
            "align_self": null,
            "height": null,
            "min_height": null,
            "padding": null,
            "grid_auto_rows": null,
            "grid_gap": null,
            "max_width": null,
            "order": null,
            "_view_module_version": "1.2.0",
            "grid_template_areas": null,
            "object_position": null,
            "object_fit": null,
            "grid_auto_columns": null,
            "margin": null,
            "display": null,
            "left": null
          }
        },
        "a7356240993941b4906c4ff15b35bb93": {
          "model_module": "@jupyter-widgets/controls",
          "model_name": "DescriptionStyleModel",
          "state": {
            "_view_name": "StyleView",
            "_model_name": "DescriptionStyleModel",
            "description_width": "",
            "_view_module": "@jupyter-widgets/base",
            "_model_module_version": "1.5.0",
            "_view_count": null,
            "_view_module_version": "1.2.0",
            "_model_module": "@jupyter-widgets/controls"
          }
        },
        "e1b427bd8008413fba02f93696c0f4c9": {
          "model_module": "@jupyter-widgets/base",
          "model_name": "LayoutModel",
          "state": {
            "_view_name": "LayoutView",
            "grid_template_rows": null,
            "right": null,
            "justify_content": null,
            "_view_module": "@jupyter-widgets/base",
            "overflow": null,
            "_model_module_version": "1.2.0",
            "_view_count": null,
            "flex_flow": null,
            "width": null,
            "min_width": null,
            "border": null,
            "align_items": null,
            "bottom": null,
            "_model_module": "@jupyter-widgets/base",
            "top": null,
            "grid_column": null,
            "overflow_y": null,
            "overflow_x": null,
            "grid_auto_flow": null,
            "grid_area": null,
            "grid_template_columns": null,
            "flex": null,
            "_model_name": "LayoutModel",
            "justify_items": null,
            "grid_row": null,
            "max_height": null,
            "align_content": null,
            "visibility": null,
            "align_self": null,
            "height": null,
            "min_height": null,
            "padding": null,
            "grid_auto_rows": null,
            "grid_gap": null,
            "max_width": null,
            "order": null,
            "_view_module_version": "1.2.0",
            "grid_template_areas": null,
            "object_position": null,
            "object_fit": null,
            "grid_auto_columns": null,
            "margin": null,
            "display": null,
            "left": null
          }
        },
        "46774e9ce27f403596199c013cd4c412": {
          "model_module": "@jupyter-widgets/controls",
          "model_name": "HBoxModel",
          "state": {
            "_view_name": "HBoxView",
            "_dom_classes": [],
            "_model_name": "HBoxModel",
            "_view_module": "@jupyter-widgets/controls",
            "_model_module_version": "1.5.0",
            "_view_count": null,
            "_view_module_version": "1.5.0",
            "box_style": "",
            "layout": "IPY_MODEL_918219edc1ca483293b0c4e5f3e219b2",
            "_model_module": "@jupyter-widgets/controls",
            "children": [
              "IPY_MODEL_aa0e53ed7cde44f3974def07edd86774",
              "IPY_MODEL_47dd6891aa9841589ab971e9f9e88d8b"
            ]
          }
        },
        "918219edc1ca483293b0c4e5f3e219b2": {
          "model_module": "@jupyter-widgets/base",
          "model_name": "LayoutModel",
          "state": {
            "_view_name": "LayoutView",
            "grid_template_rows": null,
            "right": null,
            "justify_content": null,
            "_view_module": "@jupyter-widgets/base",
            "overflow": null,
            "_model_module_version": "1.2.0",
            "_view_count": null,
            "flex_flow": null,
            "width": null,
            "min_width": null,
            "border": null,
            "align_items": null,
            "bottom": null,
            "_model_module": "@jupyter-widgets/base",
            "top": null,
            "grid_column": null,
            "overflow_y": null,
            "overflow_x": null,
            "grid_auto_flow": null,
            "grid_area": null,
            "grid_template_columns": null,
            "flex": null,
            "_model_name": "LayoutModel",
            "justify_items": null,
            "grid_row": null,
            "max_height": null,
            "align_content": null,
            "visibility": null,
            "align_self": null,
            "height": null,
            "min_height": null,
            "padding": null,
            "grid_auto_rows": null,
            "grid_gap": null,
            "max_width": null,
            "order": null,
            "_view_module_version": "1.2.0",
            "grid_template_areas": null,
            "object_position": null,
            "object_fit": null,
            "grid_auto_columns": null,
            "margin": null,
            "display": null,
            "left": null
          }
        },
        "aa0e53ed7cde44f3974def07edd86774": {
          "model_module": "@jupyter-widgets/controls",
          "model_name": "FloatProgressModel",
          "state": {
            "_view_name": "ProgressView",
            "style": "IPY_MODEL_6d01aa22d4e4467b8c9122adbf50b18f",
            "_dom_classes": [],
            "description": "100%",
            "_model_name": "FloatProgressModel",
            "bar_style": "success",
            "max": 5,
            "_view_module": "@jupyter-widgets/controls",
            "_model_module_version": "1.5.0",
            "value": 5,
            "_view_count": null,
            "_view_module_version": "1.5.0",
            "orientation": "horizontal",
            "min": 0,
            "description_tooltip": null,
            "_model_module": "@jupyter-widgets/controls",
            "layout": "IPY_MODEL_bab28e7e6af3401d851856271650f950"
          }
        },
        "47dd6891aa9841589ab971e9f9e88d8b": {
          "model_module": "@jupyter-widgets/controls",
          "model_name": "HTMLModel",
          "state": {
            "_view_name": "HTMLView",
            "style": "IPY_MODEL_87d89a04a7964c088fcd1e5bf167a723",
            "_dom_classes": [],
            "description": "",
            "_model_name": "HTMLModel",
            "placeholder": "​",
            "_view_module": "@jupyter-widgets/controls",
            "_model_module_version": "1.5.0",
            "value": " 5/5 [07:07&lt;00:00, 85.41s/it]",
            "_view_count": null,
            "_view_module_version": "1.5.0",
            "description_tooltip": null,
            "_model_module": "@jupyter-widgets/controls",
            "layout": "IPY_MODEL_6f4d4babfacc4168bb0ed55a3c5bba17"
          }
        },
        "6d01aa22d4e4467b8c9122adbf50b18f": {
          "model_module": "@jupyter-widgets/controls",
          "model_name": "ProgressStyleModel",
          "state": {
            "_view_name": "StyleView",
            "_model_name": "ProgressStyleModel",
            "description_width": "initial",
            "_view_module": "@jupyter-widgets/base",
            "_model_module_version": "1.5.0",
            "_view_count": null,
            "_view_module_version": "1.2.0",
            "bar_color": null,
            "_model_module": "@jupyter-widgets/controls"
          }
        },
        "bab28e7e6af3401d851856271650f950": {
          "model_module": "@jupyter-widgets/base",
          "model_name": "LayoutModel",
          "state": {
            "_view_name": "LayoutView",
            "grid_template_rows": null,
            "right": null,
            "justify_content": null,
            "_view_module": "@jupyter-widgets/base",
            "overflow": null,
            "_model_module_version": "1.2.0",
            "_view_count": null,
            "flex_flow": null,
            "width": null,
            "min_width": null,
            "border": null,
            "align_items": null,
            "bottom": null,
            "_model_module": "@jupyter-widgets/base",
            "top": null,
            "grid_column": null,
            "overflow_y": null,
            "overflow_x": null,
            "grid_auto_flow": null,
            "grid_area": null,
            "grid_template_columns": null,
            "flex": null,
            "_model_name": "LayoutModel",
            "justify_items": null,
            "grid_row": null,
            "max_height": null,
            "align_content": null,
            "visibility": null,
            "align_self": null,
            "height": null,
            "min_height": null,
            "padding": null,
            "grid_auto_rows": null,
            "grid_gap": null,
            "max_width": null,
            "order": null,
            "_view_module_version": "1.2.0",
            "grid_template_areas": null,
            "object_position": null,
            "object_fit": null,
            "grid_auto_columns": null,
            "margin": null,
            "display": null,
            "left": null
          }
        },
        "87d89a04a7964c088fcd1e5bf167a723": {
          "model_module": "@jupyter-widgets/controls",
          "model_name": "DescriptionStyleModel",
          "state": {
            "_view_name": "StyleView",
            "_model_name": "DescriptionStyleModel",
            "description_width": "",
            "_view_module": "@jupyter-widgets/base",
            "_model_module_version": "1.5.0",
            "_view_count": null,
            "_view_module_version": "1.2.0",
            "_model_module": "@jupyter-widgets/controls"
          }
        },
        "6f4d4babfacc4168bb0ed55a3c5bba17": {
          "model_module": "@jupyter-widgets/base",
          "model_name": "LayoutModel",
          "state": {
            "_view_name": "LayoutView",
            "grid_template_rows": null,
            "right": null,
            "justify_content": null,
            "_view_module": "@jupyter-widgets/base",
            "overflow": null,
            "_model_module_version": "1.2.0",
            "_view_count": null,
            "flex_flow": null,
            "width": null,
            "min_width": null,
            "border": null,
            "align_items": null,
            "bottom": null,
            "_model_module": "@jupyter-widgets/base",
            "top": null,
            "grid_column": null,
            "overflow_y": null,
            "overflow_x": null,
            "grid_auto_flow": null,
            "grid_area": null,
            "grid_template_columns": null,
            "flex": null,
            "_model_name": "LayoutModel",
            "justify_items": null,
            "grid_row": null,
            "max_height": null,
            "align_content": null,
            "visibility": null,
            "align_self": null,
            "height": null,
            "min_height": null,
            "padding": null,
            "grid_auto_rows": null,
            "grid_gap": null,
            "max_width": null,
            "order": null,
            "_view_module_version": "1.2.0",
            "grid_template_areas": null,
            "object_position": null,
            "object_fit": null,
            "grid_auto_columns": null,
            "margin": null,
            "display": null,
            "left": null
          }
        },
        "c043c3a94f8046aa8101b0dc57a9f582": {
          "model_module": "@jupyter-widgets/controls",
          "model_name": "HBoxModel",
          "state": {
            "_view_name": "HBoxView",
            "_dom_classes": [],
            "_model_name": "HBoxModel",
            "_view_module": "@jupyter-widgets/controls",
            "_model_module_version": "1.5.0",
            "_view_count": null,
            "_view_module_version": "1.5.0",
            "box_style": "",
            "layout": "IPY_MODEL_b5dea4574e6843828d3546c149c76c72",
            "_model_module": "@jupyter-widgets/controls",
            "children": [
              "IPY_MODEL_b220b2fe1d634ed7b81c608ef5bdf9ba",
              "IPY_MODEL_f1ae80eca62a477984e464f7ff456d6d"
            ]
          }
        },
        "b5dea4574e6843828d3546c149c76c72": {
          "model_module": "@jupyter-widgets/base",
          "model_name": "LayoutModel",
          "state": {
            "_view_name": "LayoutView",
            "grid_template_rows": null,
            "right": null,
            "justify_content": null,
            "_view_module": "@jupyter-widgets/base",
            "overflow": null,
            "_model_module_version": "1.2.0",
            "_view_count": null,
            "flex_flow": null,
            "width": null,
            "min_width": null,
            "border": null,
            "align_items": null,
            "bottom": null,
            "_model_module": "@jupyter-widgets/base",
            "top": null,
            "grid_column": null,
            "overflow_y": null,
            "overflow_x": null,
            "grid_auto_flow": null,
            "grid_area": null,
            "grid_template_columns": null,
            "flex": null,
            "_model_name": "LayoutModel",
            "justify_items": null,
            "grid_row": null,
            "max_height": null,
            "align_content": null,
            "visibility": null,
            "align_self": null,
            "height": null,
            "min_height": null,
            "padding": null,
            "grid_auto_rows": null,
            "grid_gap": null,
            "max_width": null,
            "order": null,
            "_view_module_version": "1.2.0",
            "grid_template_areas": null,
            "object_position": null,
            "object_fit": null,
            "grid_auto_columns": null,
            "margin": null,
            "display": null,
            "left": null
          }
        },
        "b220b2fe1d634ed7b81c608ef5bdf9ba": {
          "model_module": "@jupyter-widgets/controls",
          "model_name": "FloatProgressModel",
          "state": {
            "_view_name": "ProgressView",
            "style": "IPY_MODEL_68d0d0c26aae4ad09bb70c9dc0a5e88f",
            "_dom_classes": [],
            "description": "100%",
            "_model_name": "FloatProgressModel",
            "bar_style": "success",
            "max": 5,
            "_view_module": "@jupyter-widgets/controls",
            "_model_module_version": "1.5.0",
            "value": 5,
            "_view_count": null,
            "_view_module_version": "1.5.0",
            "orientation": "horizontal",
            "min": 0,
            "description_tooltip": null,
            "_model_module": "@jupyter-widgets/controls",
            "layout": "IPY_MODEL_fb6798c16d434f3e99cfab449239b06e"
          }
        },
        "f1ae80eca62a477984e464f7ff456d6d": {
          "model_module": "@jupyter-widgets/controls",
          "model_name": "HTMLModel",
          "state": {
            "_view_name": "HTMLView",
            "style": "IPY_MODEL_ffa6917950f249deb0655003cc93fc87",
            "_dom_classes": [],
            "description": "",
            "_model_name": "HTMLModel",
            "placeholder": "​",
            "_view_module": "@jupyter-widgets/controls",
            "_model_module_version": "1.5.0",
            "value": " 5/5 [04:47&lt;00:00, 57.53s/it]",
            "_view_count": null,
            "_view_module_version": "1.5.0",
            "description_tooltip": null,
            "_model_module": "@jupyter-widgets/controls",
            "layout": "IPY_MODEL_6fd569fc1c064e71af8e43ff11494478"
          }
        },
        "68d0d0c26aae4ad09bb70c9dc0a5e88f": {
          "model_module": "@jupyter-widgets/controls",
          "model_name": "ProgressStyleModel",
          "state": {
            "_view_name": "StyleView",
            "_model_name": "ProgressStyleModel",
            "description_width": "initial",
            "_view_module": "@jupyter-widgets/base",
            "_model_module_version": "1.5.0",
            "_view_count": null,
            "_view_module_version": "1.2.0",
            "bar_color": null,
            "_model_module": "@jupyter-widgets/controls"
          }
        },
        "fb6798c16d434f3e99cfab449239b06e": {
          "model_module": "@jupyter-widgets/base",
          "model_name": "LayoutModel",
          "state": {
            "_view_name": "LayoutView",
            "grid_template_rows": null,
            "right": null,
            "justify_content": null,
            "_view_module": "@jupyter-widgets/base",
            "overflow": null,
            "_model_module_version": "1.2.0",
            "_view_count": null,
            "flex_flow": null,
            "width": null,
            "min_width": null,
            "border": null,
            "align_items": null,
            "bottom": null,
            "_model_module": "@jupyter-widgets/base",
            "top": null,
            "grid_column": null,
            "overflow_y": null,
            "overflow_x": null,
            "grid_auto_flow": null,
            "grid_area": null,
            "grid_template_columns": null,
            "flex": null,
            "_model_name": "LayoutModel",
            "justify_items": null,
            "grid_row": null,
            "max_height": null,
            "align_content": null,
            "visibility": null,
            "align_self": null,
            "height": null,
            "min_height": null,
            "padding": null,
            "grid_auto_rows": null,
            "grid_gap": null,
            "max_width": null,
            "order": null,
            "_view_module_version": "1.2.0",
            "grid_template_areas": null,
            "object_position": null,
            "object_fit": null,
            "grid_auto_columns": null,
            "margin": null,
            "display": null,
            "left": null
          }
        },
        "ffa6917950f249deb0655003cc93fc87": {
          "model_module": "@jupyter-widgets/controls",
          "model_name": "DescriptionStyleModel",
          "state": {
            "_view_name": "StyleView",
            "_model_name": "DescriptionStyleModel",
            "description_width": "",
            "_view_module": "@jupyter-widgets/base",
            "_model_module_version": "1.5.0",
            "_view_count": null,
            "_view_module_version": "1.2.0",
            "_model_module": "@jupyter-widgets/controls"
          }
        },
        "6fd569fc1c064e71af8e43ff11494478": {
          "model_module": "@jupyter-widgets/base",
          "model_name": "LayoutModel",
          "state": {
            "_view_name": "LayoutView",
            "grid_template_rows": null,
            "right": null,
            "justify_content": null,
            "_view_module": "@jupyter-widgets/base",
            "overflow": null,
            "_model_module_version": "1.2.0",
            "_view_count": null,
            "flex_flow": null,
            "width": null,
            "min_width": null,
            "border": null,
            "align_items": null,
            "bottom": null,
            "_model_module": "@jupyter-widgets/base",
            "top": null,
            "grid_column": null,
            "overflow_y": null,
            "overflow_x": null,
            "grid_auto_flow": null,
            "grid_area": null,
            "grid_template_columns": null,
            "flex": null,
            "_model_name": "LayoutModel",
            "justify_items": null,
            "grid_row": null,
            "max_height": null,
            "align_content": null,
            "visibility": null,
            "align_self": null,
            "height": null,
            "min_height": null,
            "padding": null,
            "grid_auto_rows": null,
            "grid_gap": null,
            "max_width": null,
            "order": null,
            "_view_module_version": "1.2.0",
            "grid_template_areas": null,
            "object_position": null,
            "object_fit": null,
            "grid_auto_columns": null,
            "margin": null,
            "display": null,
            "left": null
          }
        },
        "4002ee3250994c44b4d3daf75263f61c": {
          "model_module": "@jupyter-widgets/controls",
          "model_name": "HBoxModel",
          "state": {
            "_view_name": "HBoxView",
            "_dom_classes": [],
            "_model_name": "HBoxModel",
            "_view_module": "@jupyter-widgets/controls",
            "_model_module_version": "1.5.0",
            "_view_count": null,
            "_view_module_version": "1.5.0",
            "box_style": "",
            "layout": "IPY_MODEL_703d1640a12c4bd9a82ed2abbe685732",
            "_model_module": "@jupyter-widgets/controls",
            "children": [
              "IPY_MODEL_711870b049794e598d10421e2606e91c",
              "IPY_MODEL_5830399bf4bc47d380efeadc6e6af968"
            ]
          }
        },
        "703d1640a12c4bd9a82ed2abbe685732": {
          "model_module": "@jupyter-widgets/base",
          "model_name": "LayoutModel",
          "state": {
            "_view_name": "LayoutView",
            "grid_template_rows": null,
            "right": null,
            "justify_content": null,
            "_view_module": "@jupyter-widgets/base",
            "overflow": null,
            "_model_module_version": "1.2.0",
            "_view_count": null,
            "flex_flow": null,
            "width": null,
            "min_width": null,
            "border": null,
            "align_items": null,
            "bottom": null,
            "_model_module": "@jupyter-widgets/base",
            "top": null,
            "grid_column": null,
            "overflow_y": null,
            "overflow_x": null,
            "grid_auto_flow": null,
            "grid_area": null,
            "grid_template_columns": null,
            "flex": null,
            "_model_name": "LayoutModel",
            "justify_items": null,
            "grid_row": null,
            "max_height": null,
            "align_content": null,
            "visibility": null,
            "align_self": null,
            "height": null,
            "min_height": null,
            "padding": null,
            "grid_auto_rows": null,
            "grid_gap": null,
            "max_width": null,
            "order": null,
            "_view_module_version": "1.2.0",
            "grid_template_areas": null,
            "object_position": null,
            "object_fit": null,
            "grid_auto_columns": null,
            "margin": null,
            "display": null,
            "left": null
          }
        },
        "711870b049794e598d10421e2606e91c": {
          "model_module": "@jupyter-widgets/controls",
          "model_name": "FloatProgressModel",
          "state": {
            "_view_name": "ProgressView",
            "style": "IPY_MODEL_1059d73e6ead4bbe93178de40468c9bd",
            "_dom_classes": [],
            "description": "100%",
            "_model_name": "FloatProgressModel",
            "bar_style": "success",
            "max": 5,
            "_view_module": "@jupyter-widgets/controls",
            "_model_module_version": "1.5.0",
            "value": 5,
            "_view_count": null,
            "_view_module_version": "1.5.0",
            "orientation": "horizontal",
            "min": 0,
            "description_tooltip": null,
            "_model_module": "@jupyter-widgets/controls",
            "layout": "IPY_MODEL_4bd9e8380fdd4c5fbb1e189df4a3ce53"
          }
        },
        "5830399bf4bc47d380efeadc6e6af968": {
          "model_module": "@jupyter-widgets/controls",
          "model_name": "HTMLModel",
          "state": {
            "_view_name": "HTMLView",
            "style": "IPY_MODEL_79e53122e9fe4f93b98c744621907757",
            "_dom_classes": [],
            "description": "",
            "_model_name": "HTMLModel",
            "placeholder": "​",
            "_view_module": "@jupyter-widgets/controls",
            "_model_module_version": "1.5.0",
            "value": " 5/5 [22:44&lt;00:00, 272.97s/it]",
            "_view_count": null,
            "_view_module_version": "1.5.0",
            "description_tooltip": null,
            "_model_module": "@jupyter-widgets/controls",
            "layout": "IPY_MODEL_726198a3045e4978a95e41b32280f3f8"
          }
        },
        "1059d73e6ead4bbe93178de40468c9bd": {
          "model_module": "@jupyter-widgets/controls",
          "model_name": "ProgressStyleModel",
          "state": {
            "_view_name": "StyleView",
            "_model_name": "ProgressStyleModel",
            "description_width": "initial",
            "_view_module": "@jupyter-widgets/base",
            "_model_module_version": "1.5.0",
            "_view_count": null,
            "_view_module_version": "1.2.0",
            "bar_color": null,
            "_model_module": "@jupyter-widgets/controls"
          }
        },
        "4bd9e8380fdd4c5fbb1e189df4a3ce53": {
          "model_module": "@jupyter-widgets/base",
          "model_name": "LayoutModel",
          "state": {
            "_view_name": "LayoutView",
            "grid_template_rows": null,
            "right": null,
            "justify_content": null,
            "_view_module": "@jupyter-widgets/base",
            "overflow": null,
            "_model_module_version": "1.2.0",
            "_view_count": null,
            "flex_flow": null,
            "width": null,
            "min_width": null,
            "border": null,
            "align_items": null,
            "bottom": null,
            "_model_module": "@jupyter-widgets/base",
            "top": null,
            "grid_column": null,
            "overflow_y": null,
            "overflow_x": null,
            "grid_auto_flow": null,
            "grid_area": null,
            "grid_template_columns": null,
            "flex": null,
            "_model_name": "LayoutModel",
            "justify_items": null,
            "grid_row": null,
            "max_height": null,
            "align_content": null,
            "visibility": null,
            "align_self": null,
            "height": null,
            "min_height": null,
            "padding": null,
            "grid_auto_rows": null,
            "grid_gap": null,
            "max_width": null,
            "order": null,
            "_view_module_version": "1.2.0",
            "grid_template_areas": null,
            "object_position": null,
            "object_fit": null,
            "grid_auto_columns": null,
            "margin": null,
            "display": null,
            "left": null
          }
        },
        "79e53122e9fe4f93b98c744621907757": {
          "model_module": "@jupyter-widgets/controls",
          "model_name": "DescriptionStyleModel",
          "state": {
            "_view_name": "StyleView",
            "_model_name": "DescriptionStyleModel",
            "description_width": "",
            "_view_module": "@jupyter-widgets/base",
            "_model_module_version": "1.5.0",
            "_view_count": null,
            "_view_module_version": "1.2.0",
            "_model_module": "@jupyter-widgets/controls"
          }
        },
        "726198a3045e4978a95e41b32280f3f8": {
          "model_module": "@jupyter-widgets/base",
          "model_name": "LayoutModel",
          "state": {
            "_view_name": "LayoutView",
            "grid_template_rows": null,
            "right": null,
            "justify_content": null,
            "_view_module": "@jupyter-widgets/base",
            "overflow": null,
            "_model_module_version": "1.2.0",
            "_view_count": null,
            "flex_flow": null,
            "width": null,
            "min_width": null,
            "border": null,
            "align_items": null,
            "bottom": null,
            "_model_module": "@jupyter-widgets/base",
            "top": null,
            "grid_column": null,
            "overflow_y": null,
            "overflow_x": null,
            "grid_auto_flow": null,
            "grid_area": null,
            "grid_template_columns": null,
            "flex": null,
            "_model_name": "LayoutModel",
            "justify_items": null,
            "grid_row": null,
            "max_height": null,
            "align_content": null,
            "visibility": null,
            "align_self": null,
            "height": null,
            "min_height": null,
            "padding": null,
            "grid_auto_rows": null,
            "grid_gap": null,
            "max_width": null,
            "order": null,
            "_view_module_version": "1.2.0",
            "grid_template_areas": null,
            "object_position": null,
            "object_fit": null,
            "grid_auto_columns": null,
            "margin": null,
            "display": null,
            "left": null
          }
        },
        "88d0b95a4e974a3eaf966e2567d28760": {
          "model_module": "@jupyter-widgets/controls",
          "model_name": "HBoxModel",
          "state": {
            "_dom_classes": [],
            "_model_module": "@jupyter-widgets/controls",
            "_model_module_version": "1.5.0",
            "_model_name": "HBoxModel",
            "_view_count": null,
            "_view_module": "@jupyter-widgets/controls",
            "_view_module_version": "1.5.0",
            "_view_name": "HBoxView",
            "box_style": "",
            "children": [
              "IPY_MODEL_cf00f04611884e4184587b4e1f9ef633",
              "IPY_MODEL_c6edd75bf0794ae0ac4e155e6694dddd"
            ],
            "layout": "IPY_MODEL_8d6d6b37f7484076939c6daaa21b6bb7"
          }
        },
        "cf00f04611884e4184587b4e1f9ef633": {
          "model_module": "@jupyter-widgets/controls",
          "model_name": "FloatProgressModel",
          "state": {
            "_dom_classes": [],
            "_model_module": "@jupyter-widgets/controls",
            "_model_module_version": "1.5.0",
            "_model_name": "FloatProgressModel",
            "_view_count": null,
            "_view_module": "@jupyter-widgets/controls",
            "_view_module_version": "1.5.0",
            "_view_name": "ProgressView",
            "bar_style": "success",
            "description": "100%",
            "description_tooltip": null,
            "layout": "IPY_MODEL_a37255fd72cc40b99caca1f9482fa7ef",
            "max": 3,
            "min": 0,
            "orientation": "horizontal",
            "style": "IPY_MODEL_828ddefd02d84fef85ec5b5de43e4602",
            "value": 3
          }
        },
        "c6edd75bf0794ae0ac4e155e6694dddd": {
          "model_module": "@jupyter-widgets/controls",
          "model_name": "HTMLModel",
          "state": {
            "_dom_classes": [],
            "_model_module": "@jupyter-widgets/controls",
            "_model_module_version": "1.5.0",
            "_model_name": "HTMLModel",
            "_view_count": null,
            "_view_module": "@jupyter-widgets/controls",
            "_view_module_version": "1.5.0",
            "_view_name": "HTMLView",
            "description": "",
            "description_tooltip": null,
            "layout": "IPY_MODEL_e90ef94a3c4744be885ff87177d68fd8",
            "placeholder": "​",
            "style": "IPY_MODEL_0e9ebb4f6e8e450f9e6a351f15eb0891",
            "value": " 3/3 [05:59&lt;00:00, 119.95s/it]"
          }
        },
        "8d6d6b37f7484076939c6daaa21b6bb7": {
          "model_module": "@jupyter-widgets/base",
          "model_name": "LayoutModel",
          "state": {
            "_model_module": "@jupyter-widgets/base",
            "_model_module_version": "1.2.0",
            "_model_name": "LayoutModel",
            "_view_count": null,
            "_view_module": "@jupyter-widgets/base",
            "_view_module_version": "1.2.0",
            "_view_name": "LayoutView",
            "align_content": null,
            "align_items": null,
            "align_self": null,
            "border": null,
            "bottom": null,
            "display": null,
            "flex": null,
            "flex_flow": null,
            "grid_area": null,
            "grid_auto_columns": null,
            "grid_auto_flow": null,
            "grid_auto_rows": null,
            "grid_column": null,
            "grid_gap": null,
            "grid_row": null,
            "grid_template_areas": null,
            "grid_template_columns": null,
            "grid_template_rows": null,
            "height": null,
            "justify_content": null,
            "justify_items": null,
            "left": null,
            "margin": null,
            "max_height": null,
            "max_width": null,
            "min_height": null,
            "min_width": null,
            "object_fit": null,
            "object_position": null,
            "order": null,
            "overflow": null,
            "overflow_x": null,
            "overflow_y": null,
            "padding": null,
            "right": null,
            "top": null,
            "visibility": null,
            "width": null
          }
        },
        "a37255fd72cc40b99caca1f9482fa7ef": {
          "model_module": "@jupyter-widgets/base",
          "model_name": "LayoutModel",
          "state": {
            "_model_module": "@jupyter-widgets/base",
            "_model_module_version": "1.2.0",
            "_model_name": "LayoutModel",
            "_view_count": null,
            "_view_module": "@jupyter-widgets/base",
            "_view_module_version": "1.2.0",
            "_view_name": "LayoutView",
            "align_content": null,
            "align_items": null,
            "align_self": null,
            "border": null,
            "bottom": null,
            "display": null,
            "flex": null,
            "flex_flow": null,
            "grid_area": null,
            "grid_auto_columns": null,
            "grid_auto_flow": null,
            "grid_auto_rows": null,
            "grid_column": null,
            "grid_gap": null,
            "grid_row": null,
            "grid_template_areas": null,
            "grid_template_columns": null,
            "grid_template_rows": null,
            "height": null,
            "justify_content": null,
            "justify_items": null,
            "left": null,
            "margin": null,
            "max_height": null,
            "max_width": null,
            "min_height": null,
            "min_width": null,
            "object_fit": null,
            "object_position": null,
            "order": null,
            "overflow": null,
            "overflow_x": null,
            "overflow_y": null,
            "padding": null,
            "right": null,
            "top": null,
            "visibility": null,
            "width": null
          }
        },
        "828ddefd02d84fef85ec5b5de43e4602": {
          "model_module": "@jupyter-widgets/controls",
          "model_name": "ProgressStyleModel",
          "state": {
            "_model_module": "@jupyter-widgets/controls",
            "_model_module_version": "1.5.0",
            "_model_name": "ProgressStyleModel",
            "_view_count": null,
            "_view_module": "@jupyter-widgets/base",
            "_view_module_version": "1.2.0",
            "_view_name": "StyleView",
            "bar_color": null,
            "description_width": "initial"
          }
        },
        "e90ef94a3c4744be885ff87177d68fd8": {
          "model_module": "@jupyter-widgets/base",
          "model_name": "LayoutModel",
          "state": {
            "_model_module": "@jupyter-widgets/base",
            "_model_module_version": "1.2.0",
            "_model_name": "LayoutModel",
            "_view_count": null,
            "_view_module": "@jupyter-widgets/base",
            "_view_module_version": "1.2.0",
            "_view_name": "LayoutView",
            "align_content": null,
            "align_items": null,
            "align_self": null,
            "border": null,
            "bottom": null,
            "display": null,
            "flex": null,
            "flex_flow": null,
            "grid_area": null,
            "grid_auto_columns": null,
            "grid_auto_flow": null,
            "grid_auto_rows": null,
            "grid_column": null,
            "grid_gap": null,
            "grid_row": null,
            "grid_template_areas": null,
            "grid_template_columns": null,
            "grid_template_rows": null,
            "height": null,
            "justify_content": null,
            "justify_items": null,
            "left": null,
            "margin": null,
            "max_height": null,
            "max_width": null,
            "min_height": null,
            "min_width": null,
            "object_fit": null,
            "object_position": null,
            "order": null,
            "overflow": null,
            "overflow_x": null,
            "overflow_y": null,
            "padding": null,
            "right": null,
            "top": null,
            "visibility": null,
            "width": null
          }
        },
        "0e9ebb4f6e8e450f9e6a351f15eb0891": {
          "model_module": "@jupyter-widgets/controls",
          "model_name": "DescriptionStyleModel",
          "state": {
            "_model_module": "@jupyter-widgets/controls",
            "_model_module_version": "1.5.0",
            "_model_name": "DescriptionStyleModel",
            "_view_count": null,
            "_view_module": "@jupyter-widgets/base",
            "_view_module_version": "1.2.0",
            "_view_name": "StyleView",
            "description_width": ""
          }
        },
        "aef9d0a1280a4944a651a5a15456d2ec": {
          "model_module": "@jupyter-widgets/controls",
          "model_name": "HBoxModel",
          "state": {
            "_dom_classes": [],
            "_model_module": "@jupyter-widgets/controls",
            "_model_module_version": "1.5.0",
            "_model_name": "HBoxModel",
            "_view_count": null,
            "_view_module": "@jupyter-widgets/controls",
            "_view_module_version": "1.5.0",
            "_view_name": "HBoxView",
            "box_style": "",
            "children": [
              "IPY_MODEL_f9ea4a5d5f92426cbe6c1d725f3a58de",
              "IPY_MODEL_e12502e57ed4477abc3e0ba0a41efc27"
            ],
            "layout": "IPY_MODEL_f4c12eaa8bae4eb9aaced28b4b2ff978"
          }
        },
        "f9ea4a5d5f92426cbe6c1d725f3a58de": {
          "model_module": "@jupyter-widgets/controls",
          "model_name": "FloatProgressModel",
          "state": {
            "_dom_classes": [],
            "_model_module": "@jupyter-widgets/controls",
            "_model_module_version": "1.5.0",
            "_model_name": "FloatProgressModel",
            "_view_count": null,
            "_view_module": "@jupyter-widgets/controls",
            "_view_module_version": "1.5.0",
            "_view_name": "ProgressView",
            "bar_style": "success",
            "description": "100%",
            "description_tooltip": null,
            "layout": "IPY_MODEL_607277e06d334f5285278fbfeb0d198a",
            "max": 5,
            "min": 0,
            "orientation": "horizontal",
            "style": "IPY_MODEL_7de1cdf5407a444899fd0e6d204f0896",
            "value": 5
          }
        },
        "e12502e57ed4477abc3e0ba0a41efc27": {
          "model_module": "@jupyter-widgets/controls",
          "model_name": "HTMLModel",
          "state": {
            "_dom_classes": [],
            "_model_module": "@jupyter-widgets/controls",
            "_model_module_version": "1.5.0",
            "_model_name": "HTMLModel",
            "_view_count": null,
            "_view_module": "@jupyter-widgets/controls",
            "_view_module_version": "1.5.0",
            "_view_name": "HTMLView",
            "description": "",
            "description_tooltip": null,
            "layout": "IPY_MODEL_8ec1af6a3aef4bee87470df2d96626e8",
            "placeholder": "​",
            "style": "IPY_MODEL_c6e46145f53347c08ed76ba4dc8a38cb",
            "value": " 5/5 [05:59&lt;00:00, 71.96s/it]"
          }
        },
        "f4c12eaa8bae4eb9aaced28b4b2ff978": {
          "model_module": "@jupyter-widgets/base",
          "model_name": "LayoutModel",
          "state": {
            "_model_module": "@jupyter-widgets/base",
            "_model_module_version": "1.2.0",
            "_model_name": "LayoutModel",
            "_view_count": null,
            "_view_module": "@jupyter-widgets/base",
            "_view_module_version": "1.2.0",
            "_view_name": "LayoutView",
            "align_content": null,
            "align_items": null,
            "align_self": null,
            "border": null,
            "bottom": null,
            "display": null,
            "flex": null,
            "flex_flow": null,
            "grid_area": null,
            "grid_auto_columns": null,
            "grid_auto_flow": null,
            "grid_auto_rows": null,
            "grid_column": null,
            "grid_gap": null,
            "grid_row": null,
            "grid_template_areas": null,
            "grid_template_columns": null,
            "grid_template_rows": null,
            "height": null,
            "justify_content": null,
            "justify_items": null,
            "left": null,
            "margin": null,
            "max_height": null,
            "max_width": null,
            "min_height": null,
            "min_width": null,
            "object_fit": null,
            "object_position": null,
            "order": null,
            "overflow": null,
            "overflow_x": null,
            "overflow_y": null,
            "padding": null,
            "right": null,
            "top": null,
            "visibility": null,
            "width": null
          }
        },
        "607277e06d334f5285278fbfeb0d198a": {
          "model_module": "@jupyter-widgets/base",
          "model_name": "LayoutModel",
          "state": {
            "_model_module": "@jupyter-widgets/base",
            "_model_module_version": "1.2.0",
            "_model_name": "LayoutModel",
            "_view_count": null,
            "_view_module": "@jupyter-widgets/base",
            "_view_module_version": "1.2.0",
            "_view_name": "LayoutView",
            "align_content": null,
            "align_items": null,
            "align_self": null,
            "border": null,
            "bottom": null,
            "display": null,
            "flex": null,
            "flex_flow": null,
            "grid_area": null,
            "grid_auto_columns": null,
            "grid_auto_flow": null,
            "grid_auto_rows": null,
            "grid_column": null,
            "grid_gap": null,
            "grid_row": null,
            "grid_template_areas": null,
            "grid_template_columns": null,
            "grid_template_rows": null,
            "height": null,
            "justify_content": null,
            "justify_items": null,
            "left": null,
            "margin": null,
            "max_height": null,
            "max_width": null,
            "min_height": null,
            "min_width": null,
            "object_fit": null,
            "object_position": null,
            "order": null,
            "overflow": null,
            "overflow_x": null,
            "overflow_y": null,
            "padding": null,
            "right": null,
            "top": null,
            "visibility": null,
            "width": null
          }
        },
        "7de1cdf5407a444899fd0e6d204f0896": {
          "model_module": "@jupyter-widgets/controls",
          "model_name": "ProgressStyleModel",
          "state": {
            "_model_module": "@jupyter-widgets/controls",
            "_model_module_version": "1.5.0",
            "_model_name": "ProgressStyleModel",
            "_view_count": null,
            "_view_module": "@jupyter-widgets/base",
            "_view_module_version": "1.2.0",
            "_view_name": "StyleView",
            "bar_color": null,
            "description_width": "initial"
          }
        },
        "8ec1af6a3aef4bee87470df2d96626e8": {
          "model_module": "@jupyter-widgets/base",
          "model_name": "LayoutModel",
          "state": {
            "_model_module": "@jupyter-widgets/base",
            "_model_module_version": "1.2.0",
            "_model_name": "LayoutModel",
            "_view_count": null,
            "_view_module": "@jupyter-widgets/base",
            "_view_module_version": "1.2.0",
            "_view_name": "LayoutView",
            "align_content": null,
            "align_items": null,
            "align_self": null,
            "border": null,
            "bottom": null,
            "display": null,
            "flex": null,
            "flex_flow": null,
            "grid_area": null,
            "grid_auto_columns": null,
            "grid_auto_flow": null,
            "grid_auto_rows": null,
            "grid_column": null,
            "grid_gap": null,
            "grid_row": null,
            "grid_template_areas": null,
            "grid_template_columns": null,
            "grid_template_rows": null,
            "height": null,
            "justify_content": null,
            "justify_items": null,
            "left": null,
            "margin": null,
            "max_height": null,
            "max_width": null,
            "min_height": null,
            "min_width": null,
            "object_fit": null,
            "object_position": null,
            "order": null,
            "overflow": null,
            "overflow_x": null,
            "overflow_y": null,
            "padding": null,
            "right": null,
            "top": null,
            "visibility": null,
            "width": null
          }
        },
        "c6e46145f53347c08ed76ba4dc8a38cb": {
          "model_module": "@jupyter-widgets/controls",
          "model_name": "DescriptionStyleModel",
          "state": {
            "_model_module": "@jupyter-widgets/controls",
            "_model_module_version": "1.5.0",
            "_model_name": "DescriptionStyleModel",
            "_view_count": null,
            "_view_module": "@jupyter-widgets/base",
            "_view_module_version": "1.2.0",
            "_view_name": "StyleView",
            "description_width": ""
          }
        },
        "ed94ad73322141969a136fa49dc6089e": {
          "model_module": "@jupyter-widgets/controls",
          "model_name": "HBoxModel",
          "state": {
            "_dom_classes": [],
            "_model_module": "@jupyter-widgets/controls",
            "_model_module_version": "1.5.0",
            "_model_name": "HBoxModel",
            "_view_count": null,
            "_view_module": "@jupyter-widgets/controls",
            "_view_module_version": "1.5.0",
            "_view_name": "HBoxView",
            "box_style": "",
            "children": [
              "IPY_MODEL_ee3d49ce338b4be29a460a875a3708d9",
              "IPY_MODEL_7898015e4c1f4f68822e9b31449cffd1"
            ],
            "layout": "IPY_MODEL_f62eb9f7f7164a6c9acb981195d740b0"
          }
        },
        "ee3d49ce338b4be29a460a875a3708d9": {
          "model_module": "@jupyter-widgets/controls",
          "model_name": "FloatProgressModel",
          "state": {
            "_dom_classes": [],
            "_model_module": "@jupyter-widgets/controls",
            "_model_module_version": "1.5.0",
            "_model_name": "FloatProgressModel",
            "_view_count": null,
            "_view_module": "@jupyter-widgets/controls",
            "_view_module_version": "1.5.0",
            "_view_name": "ProgressView",
            "bar_style": "success",
            "description": "100%",
            "description_tooltip": null,
            "layout": "IPY_MODEL_7179fb630aed4d6b9436a67a2ecfb46f",
            "max": 5,
            "min": 0,
            "orientation": "horizontal",
            "style": "IPY_MODEL_31212ec2da374c4c9a44cdf8dd05bbfa",
            "value": 5
          }
        },
        "7898015e4c1f4f68822e9b31449cffd1": {
          "model_module": "@jupyter-widgets/controls",
          "model_name": "HTMLModel",
          "state": {
            "_dom_classes": [],
            "_model_module": "@jupyter-widgets/controls",
            "_model_module_version": "1.5.0",
            "_model_name": "HTMLModel",
            "_view_count": null,
            "_view_module": "@jupyter-widgets/controls",
            "_view_module_version": "1.5.0",
            "_view_name": "HTMLView",
            "description": "",
            "description_tooltip": null,
            "layout": "IPY_MODEL_77633b0a07634aa2b3666ca6b99cfca9",
            "placeholder": "​",
            "style": "IPY_MODEL_64ab35638dad4b8bb91053240ef8dc97",
            "value": " 5/5 [04:03&lt;00:00, 48.72s/it]"
          }
        },
        "f62eb9f7f7164a6c9acb981195d740b0": {
          "model_module": "@jupyter-widgets/base",
          "model_name": "LayoutModel",
          "state": {
            "_model_module": "@jupyter-widgets/base",
            "_model_module_version": "1.2.0",
            "_model_name": "LayoutModel",
            "_view_count": null,
            "_view_module": "@jupyter-widgets/base",
            "_view_module_version": "1.2.0",
            "_view_name": "LayoutView",
            "align_content": null,
            "align_items": null,
            "align_self": null,
            "border": null,
            "bottom": null,
            "display": null,
            "flex": null,
            "flex_flow": null,
            "grid_area": null,
            "grid_auto_columns": null,
            "grid_auto_flow": null,
            "grid_auto_rows": null,
            "grid_column": null,
            "grid_gap": null,
            "grid_row": null,
            "grid_template_areas": null,
            "grid_template_columns": null,
            "grid_template_rows": null,
            "height": null,
            "justify_content": null,
            "justify_items": null,
            "left": null,
            "margin": null,
            "max_height": null,
            "max_width": null,
            "min_height": null,
            "min_width": null,
            "object_fit": null,
            "object_position": null,
            "order": null,
            "overflow": null,
            "overflow_x": null,
            "overflow_y": null,
            "padding": null,
            "right": null,
            "top": null,
            "visibility": null,
            "width": null
          }
        },
        "7179fb630aed4d6b9436a67a2ecfb46f": {
          "model_module": "@jupyter-widgets/base",
          "model_name": "LayoutModel",
          "state": {
            "_model_module": "@jupyter-widgets/base",
            "_model_module_version": "1.2.0",
            "_model_name": "LayoutModel",
            "_view_count": null,
            "_view_module": "@jupyter-widgets/base",
            "_view_module_version": "1.2.0",
            "_view_name": "LayoutView",
            "align_content": null,
            "align_items": null,
            "align_self": null,
            "border": null,
            "bottom": null,
            "display": null,
            "flex": null,
            "flex_flow": null,
            "grid_area": null,
            "grid_auto_columns": null,
            "grid_auto_flow": null,
            "grid_auto_rows": null,
            "grid_column": null,
            "grid_gap": null,
            "grid_row": null,
            "grid_template_areas": null,
            "grid_template_columns": null,
            "grid_template_rows": null,
            "height": null,
            "justify_content": null,
            "justify_items": null,
            "left": null,
            "margin": null,
            "max_height": null,
            "max_width": null,
            "min_height": null,
            "min_width": null,
            "object_fit": null,
            "object_position": null,
            "order": null,
            "overflow": null,
            "overflow_x": null,
            "overflow_y": null,
            "padding": null,
            "right": null,
            "top": null,
            "visibility": null,
            "width": null
          }
        },
        "31212ec2da374c4c9a44cdf8dd05bbfa": {
          "model_module": "@jupyter-widgets/controls",
          "model_name": "ProgressStyleModel",
          "state": {
            "_model_module": "@jupyter-widgets/controls",
            "_model_module_version": "1.5.0",
            "_model_name": "ProgressStyleModel",
            "_view_count": null,
            "_view_module": "@jupyter-widgets/base",
            "_view_module_version": "1.2.0",
            "_view_name": "StyleView",
            "bar_color": null,
            "description_width": "initial"
          }
        },
        "77633b0a07634aa2b3666ca6b99cfca9": {
          "model_module": "@jupyter-widgets/base",
          "model_name": "LayoutModel",
          "state": {
            "_model_module": "@jupyter-widgets/base",
            "_model_module_version": "1.2.0",
            "_model_name": "LayoutModel",
            "_view_count": null,
            "_view_module": "@jupyter-widgets/base",
            "_view_module_version": "1.2.0",
            "_view_name": "LayoutView",
            "align_content": null,
            "align_items": null,
            "align_self": null,
            "border": null,
            "bottom": null,
            "display": null,
            "flex": null,
            "flex_flow": null,
            "grid_area": null,
            "grid_auto_columns": null,
            "grid_auto_flow": null,
            "grid_auto_rows": null,
            "grid_column": null,
            "grid_gap": null,
            "grid_row": null,
            "grid_template_areas": null,
            "grid_template_columns": null,
            "grid_template_rows": null,
            "height": null,
            "justify_content": null,
            "justify_items": null,
            "left": null,
            "margin": null,
            "max_height": null,
            "max_width": null,
            "min_height": null,
            "min_width": null,
            "object_fit": null,
            "object_position": null,
            "order": null,
            "overflow": null,
            "overflow_x": null,
            "overflow_y": null,
            "padding": null,
            "right": null,
            "top": null,
            "visibility": null,
            "width": null
          }
        },
        "64ab35638dad4b8bb91053240ef8dc97": {
          "model_module": "@jupyter-widgets/controls",
          "model_name": "DescriptionStyleModel",
          "state": {
            "_model_module": "@jupyter-widgets/controls",
            "_model_module_version": "1.5.0",
            "_model_name": "DescriptionStyleModel",
            "_view_count": null,
            "_view_module": "@jupyter-widgets/base",
            "_view_module_version": "1.2.0",
            "_view_name": "StyleView",
            "description_width": ""
          }
        },
        "27fe77dc42d04c37b4d93df0cf5d2917": {
          "model_module": "@jupyter-widgets/controls",
          "model_name": "HBoxModel",
          "state": {
            "_dom_classes": [],
            "_model_module": "@jupyter-widgets/controls",
            "_model_module_version": "1.5.0",
            "_model_name": "HBoxModel",
            "_view_count": null,
            "_view_module": "@jupyter-widgets/controls",
            "_view_module_version": "1.5.0",
            "_view_name": "HBoxView",
            "box_style": "",
            "children": [
              "IPY_MODEL_cdf8f72b1d9c446e9b2e92983a7be50b",
              "IPY_MODEL_e1b748655a974c3a8ba2d3dff6ead00a"
            ],
            "layout": "IPY_MODEL_c92ec88059f74e9293fa7dce2074a011"
          }
        },
        "cdf8f72b1d9c446e9b2e92983a7be50b": {
          "model_module": "@jupyter-widgets/controls",
          "model_name": "FloatProgressModel",
          "state": {
            "_dom_classes": [],
            "_model_module": "@jupyter-widgets/controls",
            "_model_module_version": "1.5.0",
            "_model_name": "FloatProgressModel",
            "_view_count": null,
            "_view_module": "@jupyter-widgets/controls",
            "_view_module_version": "1.5.0",
            "_view_name": "ProgressView",
            "bar_style": "success",
            "description": "100%",
            "description_tooltip": null,
            "layout": "IPY_MODEL_45378e12fa6748aea044fc149030bdf4",
            "max": 5,
            "min": 0,
            "orientation": "horizontal",
            "style": "IPY_MODEL_95ae37734de94bb48dfefcad81689b8e",
            "value": 5
          }
        },
        "e1b748655a974c3a8ba2d3dff6ead00a": {
          "model_module": "@jupyter-widgets/controls",
          "model_name": "HTMLModel",
          "state": {
            "_dom_classes": [],
            "_model_module": "@jupyter-widgets/controls",
            "_model_module_version": "1.5.0",
            "_model_name": "HTMLModel",
            "_view_count": null,
            "_view_module": "@jupyter-widgets/controls",
            "_view_module_version": "1.5.0",
            "_view_name": "HTMLView",
            "description": "",
            "description_tooltip": null,
            "layout": "IPY_MODEL_bbe2ccbedcc1466cac10bbba6a6eaed1",
            "placeholder": "​",
            "style": "IPY_MODEL_b796810173d4431d90ef1dfb9fbbc0a5",
            "value": " 5/5 [02:10&lt;00:00, 26.10s/it]"
          }
        },
        "c92ec88059f74e9293fa7dce2074a011": {
          "model_module": "@jupyter-widgets/base",
          "model_name": "LayoutModel",
          "state": {
            "_model_module": "@jupyter-widgets/base",
            "_model_module_version": "1.2.0",
            "_model_name": "LayoutModel",
            "_view_count": null,
            "_view_module": "@jupyter-widgets/base",
            "_view_module_version": "1.2.0",
            "_view_name": "LayoutView",
            "align_content": null,
            "align_items": null,
            "align_self": null,
            "border": null,
            "bottom": null,
            "display": null,
            "flex": null,
            "flex_flow": null,
            "grid_area": null,
            "grid_auto_columns": null,
            "grid_auto_flow": null,
            "grid_auto_rows": null,
            "grid_column": null,
            "grid_gap": null,
            "grid_row": null,
            "grid_template_areas": null,
            "grid_template_columns": null,
            "grid_template_rows": null,
            "height": null,
            "justify_content": null,
            "justify_items": null,
            "left": null,
            "margin": null,
            "max_height": null,
            "max_width": null,
            "min_height": null,
            "min_width": null,
            "object_fit": null,
            "object_position": null,
            "order": null,
            "overflow": null,
            "overflow_x": null,
            "overflow_y": null,
            "padding": null,
            "right": null,
            "top": null,
            "visibility": null,
            "width": null
          }
        },
        "45378e12fa6748aea044fc149030bdf4": {
          "model_module": "@jupyter-widgets/base",
          "model_name": "LayoutModel",
          "state": {
            "_model_module": "@jupyter-widgets/base",
            "_model_module_version": "1.2.0",
            "_model_name": "LayoutModel",
            "_view_count": null,
            "_view_module": "@jupyter-widgets/base",
            "_view_module_version": "1.2.0",
            "_view_name": "LayoutView",
            "align_content": null,
            "align_items": null,
            "align_self": null,
            "border": null,
            "bottom": null,
            "display": null,
            "flex": null,
            "flex_flow": null,
            "grid_area": null,
            "grid_auto_columns": null,
            "grid_auto_flow": null,
            "grid_auto_rows": null,
            "grid_column": null,
            "grid_gap": null,
            "grid_row": null,
            "grid_template_areas": null,
            "grid_template_columns": null,
            "grid_template_rows": null,
            "height": null,
            "justify_content": null,
            "justify_items": null,
            "left": null,
            "margin": null,
            "max_height": null,
            "max_width": null,
            "min_height": null,
            "min_width": null,
            "object_fit": null,
            "object_position": null,
            "order": null,
            "overflow": null,
            "overflow_x": null,
            "overflow_y": null,
            "padding": null,
            "right": null,
            "top": null,
            "visibility": null,
            "width": null
          }
        },
        "95ae37734de94bb48dfefcad81689b8e": {
          "model_module": "@jupyter-widgets/controls",
          "model_name": "ProgressStyleModel",
          "state": {
            "_model_module": "@jupyter-widgets/controls",
            "_model_module_version": "1.5.0",
            "_model_name": "ProgressStyleModel",
            "_view_count": null,
            "_view_module": "@jupyter-widgets/base",
            "_view_module_version": "1.2.0",
            "_view_name": "StyleView",
            "bar_color": null,
            "description_width": "initial"
          }
        },
        "bbe2ccbedcc1466cac10bbba6a6eaed1": {
          "model_module": "@jupyter-widgets/base",
          "model_name": "LayoutModel",
          "state": {
            "_model_module": "@jupyter-widgets/base",
            "_model_module_version": "1.2.0",
            "_model_name": "LayoutModel",
            "_view_count": null,
            "_view_module": "@jupyter-widgets/base",
            "_view_module_version": "1.2.0",
            "_view_name": "LayoutView",
            "align_content": null,
            "align_items": null,
            "align_self": null,
            "border": null,
            "bottom": null,
            "display": null,
            "flex": null,
            "flex_flow": null,
            "grid_area": null,
            "grid_auto_columns": null,
            "grid_auto_flow": null,
            "grid_auto_rows": null,
            "grid_column": null,
            "grid_gap": null,
            "grid_row": null,
            "grid_template_areas": null,
            "grid_template_columns": null,
            "grid_template_rows": null,
            "height": null,
            "justify_content": null,
            "justify_items": null,
            "left": null,
            "margin": null,
            "max_height": null,
            "max_width": null,
            "min_height": null,
            "min_width": null,
            "object_fit": null,
            "object_position": null,
            "order": null,
            "overflow": null,
            "overflow_x": null,
            "overflow_y": null,
            "padding": null,
            "right": null,
            "top": null,
            "visibility": null,
            "width": null
          }
        },
        "b796810173d4431d90ef1dfb9fbbc0a5": {
          "model_module": "@jupyter-widgets/controls",
          "model_name": "DescriptionStyleModel",
          "state": {
            "_model_module": "@jupyter-widgets/controls",
            "_model_module_version": "1.5.0",
            "_model_name": "DescriptionStyleModel",
            "_view_count": null,
            "_view_module": "@jupyter-widgets/base",
            "_view_module_version": "1.2.0",
            "_view_name": "StyleView",
            "description_width": ""
          }
        }
      }
    }
  },
  "cells": [
    {
      "cell_type": "markdown",
      "metadata": {
        "id": "F9Nx9eYFCpGk"
      },
      "source": [
        "# Munchausen Reinforcement Learning"
      ]
    },
    {
      "cell_type": "markdown",
      "metadata": {
        "id": "2IO4vcPYSerx"
      },
      "source": [
        "### What is Munchausen RL?"
      ]
    },
    {
      "cell_type": "markdown",
      "metadata": {
        "id": "mMkBKiXENyPJ"
      },
      "source": [
        "In practice, Munchausen RL is simply the addition of an intrinsic reward term to Q-learning type algorithms. This additional term is the log of the density assigned to the action sampled at time $t$ by the target policy at time $t$.\n",
        "\n",
        "For an example, consider Q-learning via the one-step temporal difference target TD(0):\n",
        "\n",
        "$$q(s_t, a_t) \\leftarrow r_t + \\max_{a \\in \\mathcal{A}}q(s_{t+1}, a)$$\n",
        "\n",
        "where beginning in state $s_t$ we sample $a_t$ according to current behavioural policy $a_t \\sim \\mu(\\cdot | s_t)$, and observe a reward $r_t = \\mathcal{R}(s_t, a_t)$ and transition $s_{t+1} \\sim \\mathcal{P}(\\cdot|s_t, a_t)$.\n",
        "\n",
        "The Munchausen equivalent M-TD(0) is:\n",
        "\n",
        "$$q(s_t, a_t) \\leftarrow r_t + \\alpha \\log\\pi(a_t | s_t) + \\max_{a \\in \\mathcal{A}}q(s_{t+1}, a)$$\n",
        "\n",
        "Where $\\pi$ is the current target policy, i.e. $\\pi(a | s) = \\delta(\\arg \\max_{a \\in \\mathcal{A}} q(a, s))$. Notice that we have introduced a hyperparameter to weight the log-policy term.\n",
        "\n",
        "Easy!"
      ]
    },
    {
      "cell_type": "markdown",
      "metadata": {
        "id": "uoQ2HNEIR9qE"
      },
      "source": [
        "### Soft Setting: Munchausen RL only well-defined for target policy with same support as behavioural policy:\n",
        "\n",
        "Before we discuss _why_ we might want to do this, notice that we need to be careful about the support of our target policy versus our behavioural policy. In particular, this additional term is going to be problematic if we choose to do off-policy learning with a deterministic target policy as above. In this case, any time we sample an $a_t \\sim \\mu(\\cdot | s_t)$ such that $a_t \\neq \\max_{a \\in \\mathcal{A}} q(a, s_t)$, then we will have $\\log \\pi(a_t|s_t) = \\log 0 = -\\infty$. \n"
      ]
    },
    {
      "cell_type": "markdown",
      "metadata": {
        "id": "s2ASd9OYi9JT"
      },
      "source": [
        "The authors of the paper therefore avoid applying Munchausen RL directly to maximum Q-learning, and instead focusing on the entropy-regularised setting, i.e. given the soft Q-learning TD-0 update with temperature $\\tau$:"
      ]
    },
    {
      "cell_type": "markdown",
      "metadata": {
        "id": "DQq1VOpog83k"
      },
      "source": [
        "\\begin{align*}q(s_t, a_t) &\\leftarrow r_t + \\mathbb{E}_{a \\sim \\pi (\\cdot | s_{t+1})}\\left[q(s_{t+1}, a) - \\tau\\log\\pi(a | s_{t+1})\\right]\\\\\n",
        "\\text{ where } &\\pi(\\cdot | s)= \\operatorname{softmax}\\left(\\frac{q(s, \\cdot)}{\\tau}\\right) \\equiv \\arg \\max_{\\pi(\\cdot | s)} \\left[ \\tau \\mathcal{H}(\\pi) +  \\mathbb{E}_{a \\sim \\pi(\\cdot|s)}q(s , a) \\right].\n",
        "\\end{align*}\n",
        "\n"
      ]
    },
    {
      "cell_type": "markdown",
      "metadata": {
        "id": "0MnE_q08xQpQ"
      },
      "source": [
        "We add the Munchausen term:"
      ]
    },
    {
      "cell_type": "markdown",
      "metadata": {
        "id": "kNUllZZdxSFD"
      },
      "source": [
        "$$q(s_t, a_t) \\leftarrow r_t + \\alpha \\tau \\log \\pi(a_t | s_t) + \\mathbb{E}_{a \\sim \\pi (\\cdot | s_{t+1})} \\left[ q(s_{t+1}, a) - \\tau\\log\\pi(a | s_{t+1}) \\right]$$"
      ]
    },
    {
      "cell_type": "markdown",
      "metadata": {
        "id": "mIEXcKpCyEnw"
      },
      "source": [
        "### Why would we do this?\n",
        "\n",
        "If we consider our policy and action-value function as elements of a function space $\\mathbb{R}^{\\mathcal{S} \\times \\mathcal{A}}$, we can write the algorithm corresponding to the above value update as Approximate Value Iteration given by:\n",
        "\n",
        "\\begin{align*}\n",
        "\\pi_{k+1} &:= \\arg \\max_\\pi \\left[\\tau \\mathcal{H}(\\pi) +  \\mathbb{E}_{\\pi}q_k \\right] \\\\\n",
        "q_{k+1} &:= r + \\alpha \\tau \\log \\pi_{k+1} + \\gamma \\mathbb{E}_{\\mathcal{P}} \\mathbb{E}_{\\pi} \\left[ q_k - \\tau\\log\\pi_{k+1}\\right]  + \\epsilon_{k+1}\n",
        "\\end{align*}\n",
        "\n",
        "where expectations operators are defined as:\n",
        "\\begin{align*}[\\mathbb{E}_\\pi q] &: \\mathcal{S} \\times \\mathcal{A} \\to \\mathcal{S}: [\\mathbb{E}_\\pi q] (s) = \\mathbb{E}_{a \\sim \\pi(\\cdot|s)}q(s , a)\\\\\n",
        "[\\mathbb{E}_\\mathcal{P} v] &: \\mathcal{S} \\to \\mathcal{S} \\times \\mathcal{A}: [\\mathbb{E}_\\mathcal{P} v](s, a) = \\mathbb{E}_{s' \\sim \\mathcal{P}(\\cdot | s, a)} v(s')\n",
        "\\end{align*}\n",
        "\n",
        "and $\\epsilon_{k+1}$ is the approximation error at each value update, accounting for all sources of error (e.g. the fact that we're not simultaneously updating, sampling off-policy, function approximation error in general.)\n",
        "\n",
        "\n",
        "The author's show that this AVI scheme is equivalent to:\n",
        "\n",
        "\\begin{align*}\n",
        "\\pi_{k+1} &:= \\arg \\max_\\pi \\left[ \\mathbb{E}_{\\pi}q'_k  - \\alpha\\tau KL(\\pi | \\pi_{k} ) + (1-\\alpha) \\tau \\mathcal{H}(\\pi) \\right] \\\\\n",
        "q'_{k+1} &:= r + \\gamma \\mathbb{E}_\\mathcal{P}\\left[\\mathbb{E}_{\\pi_{k+1}} q'_k - \\alpha\\tau KL(\\pi_{k+1} |\\pi_{k}) +  (1-\\alpha)\\tau\\mathcal{H}(\\pi_{k+1}) \\right] + \\epsilon_{k+1} \n",
        "\\end{align*}\n",
        "\n",
        "where $q'_{k} = q_k - \\alpha\\tau \\log \\pi_k$ (i.e. the original value, before we added the Munchausen)\n",
        "\n"
      ]
    },
    {
      "cell_type": "markdown",
      "metadata": {
        "id": "a3faaMZ0E2Is"
      },
      "source": [
        "### Implicit KL regularisation to go with your entropy regularisation\n",
        "\n",
        "This is really cool because it means that adding the Munchausen term results in an AVI (and more generally an AMPI) algorithm that implicitly regularises KL divergence between successive policies. What's more, \n",
        "$\\alpha$ and $\\tau$ allow us to trade-off between **entropy regularisation** and **KL-regularisation**, both of which have different intuitive effects. \n",
        "\n",
        "$$\\pi_{k+1} := \\arg \\max_\\pi \\left[ \\mathbb{E}_{\\pi}q'_k  - \\alpha\\tau KL(\\pi | \\pi_{k} ) + (1-\\alpha) \\tau \\mathcal{H}(\\pi)\\right] $$\n",
        "\n",
        "KL-regularisation between successive policies **stabilises** the policy update, meaning we can't move too far in policy space. If we're already at a relatively good policy with $\\pi_k$ and we get a particularly poor estimate of our value function at the next update (e.g. due to a bad batch), then the next policy $\\pi_{k+1}$ is penalised for moving too far from $\\pi_k$. KL-regularisations stabilises our traversal through policy space.\n",
        "\n",
        "\n",
        "Entropy-regularisation helps by **smoothing** the action-value space by penalising non-stochastic behaviour and therefore forcing \"local\" regions of state-action space to share similar value estimates. Additionally, by encouraging exploration."
      ]
    },
    {
      "cell_type": "markdown",
      "metadata": {
        "id": "w8d1mAO3ZBL8"
      },
      "source": [
        "### Equivalently, increasing the Action Gap\n",
        "\n",
        "The authors also discuss an additional interpreation: including the Munchausen term provably increases the action-gap (in the limit) - defining $\\delta_*^{(1-\\alpha)\\tau}(s) = max_a q^\\tau_*(s, a) - q_*^{\\tau}(s, \\cdot) \\in \\mathbb{R}^{\\mathcal{A}}$ to be the action-gap of the optimal action in a $(1-\\alpha)\\tau$-entropy regularised MDP, and $\\delta_k^{\\alpha, \\tau} (s) = max_a q^\\tau_k(s, a) - q_k^{\\tau}(s, \\cdot) \\in \\mathbb{R}^{\\mathcal{A}}$ as the action-gap at the $k^{th}$ iteration of Munchausen Value Iteration (as seen above), they show:\n",
        "\n",
        "$$\\lim_{k \\to \\infty} \\delta_k^{\\alpha, \\tau}(s) = \\frac{1+\\alpha}{1-\\alpha} \\delta_*^{(1-\\alpha)\\tau}(s) $$\n",
        "\n",
        "for $\\alpha \\in [0, 1), \\tau > 0$. Note that this bound is in the absence of approximation error.\n",
        "\n",
        "The advantage of the action-gap is the same as KL-regularisation: the algorithm is more robust to errors in the value function. (I'm pretty sure this is two sides of the same coin with respect to KL-divergence given that the policy is implicitly defined by the value function - i.e. smoothing of policy space _is_ increasing of the action gap)."
      ]
    },
    {
      "cell_type": "markdown",
      "metadata": {
        "id": "s3Z-_PU3McOM"
      },
      "source": [
        "#Implementation"
      ]
    },
    {
      "cell_type": "code",
      "metadata": {
        "id": "20Lon98_g_Cj",
        "cellView": "form"
      },
      "source": [
        "#@title Util Functions\n",
        "!pip install box2d-py\n",
        "import gym\n",
        "import torch\n",
        "import torch.nn as nn\n",
        "import torch.nn.functional as F\n",
        "\n",
        "from IPython.display import clear_output\n",
        "import matplotlib.pyplot as plt\n",
        "%matplotlib inline\n",
        "\n",
        "class TorchEnvironmentWrapper(object):\n",
        "    def __init__(self, env):\n",
        "        self._env = env\n",
        "        \n",
        "    def __getattr__(self, attr):\n",
        "        if attr in self.__dict__:\n",
        "            return getattr(self, attr)\n",
        "        return getattr(self._env, attr)\n",
        "\n",
        "    def step(self, action):\n",
        "      next_state, reward, done, info = self._env.step(action)\n",
        "      next_state = torch.FloatTensor([next_state])\n",
        "      reward = torch.FloatTensor([reward])\n",
        "      done = torch.FloatTensor([done])\n",
        "      return next_state, reward, done, info\n",
        "\n",
        "    def reset(self):\n",
        "      state = self._env.reset()\n",
        "      return torch.FloatTensor([state])\n",
        "\n",
        "\n",
        "class ReplayBuffer():\n",
        "    def __init__(self, capacity):\n",
        "        self.states = torch.empty(0)\n",
        "        self.actions = torch.empty(0, dtype=torch.int8)\n",
        "        self.rewards = torch.empty(0)\n",
        "        self.next_states = torch.empty(0)\n",
        "        self.dones = torch.empty(0)\n",
        "    \n",
        "    def push(self, state, action, reward, next_state, done):\n",
        "        self.states = torch.cat([self.states, state])\n",
        "        self.actions = torch.cat([self.actions, action.unsqueeze(0)])\n",
        "        self.rewards = torch.cat([self.rewards, reward.unsqueeze(0)])\n",
        "        self.next_states = torch.cat([self.next_states, next_state])\n",
        "        self.dones = torch.cat([self.dones, done.unsqueeze(0)])\n",
        "\n",
        "    def sample(self, batch_size, to_cuda=False):\n",
        "        if len(self) <= batch_size:\n",
        "          raise RuntimeError(\"Cannot sample batch of size {} from buffer of size {}\".format(batch_size, len(self)))\n",
        "        \n",
        "        ix = torch.randint(low=0, high=len(self), size=(batch_size,))\n",
        "        batch = (self.states[ix], self.actions[ix], self.rewards[ix], self.next_states[ix], self.dones[ix])\n",
        "\n",
        "        if to_cuda:\n",
        "          return tuple([x.cuda() for x in batch])\n",
        "        else:\n",
        "          return batch\n",
        "    \n",
        "    def __len__(self):\n",
        "        return self.states.shape[0]\n",
        "\n",
        "\n",
        "class QModel():\n",
        "\n",
        "  def __init__(self, model, criterion, optimizer, on_cuda=False):\n",
        "    self.model = model\n",
        "    self.criterion = criterion\n",
        "    self.optimizer = optimizer\n",
        "    self.on_cuda = on_cuda\n",
        "\n",
        "  def evaluate(self, states):\n",
        "      if self.on_cuda:\n",
        "          states = states.cuda()\n",
        "      with torch.no_grad():\n",
        "          return self.model(states).cpu()\n",
        "\n",
        "  def train(self, states, actions, targets):\n",
        "      if self.on_cuda:\n",
        "          states, actions, targets = states.cuda(), actions.cuda(), targets.cuda()\n",
        "      values = self.model(states).gather(1, actions)\n",
        "      loss = self.criterion(values, targets)\n",
        "      self.optimizer.zero_grad()\n",
        "      loss.backward()\n",
        "      self.optimizer.step()  \n",
        "\n",
        "      return loss.item()\n",
        "\n",
        "import numpy as np\n",
        "\n",
        "def plot(frame_idx, rewards, losses):\n",
        "    clear_output(True)\n",
        "    plt.figure(figsize=(20,5))\n",
        "    plt.subplot(131)\n",
        "    plt.title('frame %s. reward: %s' % (frame_idx, np.mean(rewards[-10:])))\n",
        "    plt.plot(rewards)\n",
        "    plt.subplot(132)\n",
        "    plt.title('loss')\n",
        "    plt.plot(losses)\n",
        "    plt.show()\n",
        "\n",
        "\n",
        "clear_output()"
      ],
      "execution_count": null,
      "outputs": []
    },
    {
      "cell_type": "markdown",
      "metadata": {
        "id": "AulRRz3V2Rzx"
      },
      "source": [
        "### Deep Q-Network### "
      ]
    },
    {
      "cell_type": "code",
      "metadata": {
        "id": "MU7Rw0uge_5W"
      },
      "source": [
        "from copy import deepcopy\n",
        "\n",
        "class DQNLikeAgent():\n",
        "\n",
        "  def __init__(\n",
        "      self, \n",
        "      num_actions, \n",
        "      q_model, \n",
        "      replay_buffer,\n",
        "      target_func=None,\n",
        "      target_delay=20,\n",
        "      batch_size=32\n",
        "  ):\n",
        "      self.t = 0\n",
        "      self.num_actions = num_actions\n",
        "      self.q_model = q_model\n",
        "      self._q_target_model = deepcopy(q_model)\n",
        "      self.replay_buffer = replay_buffer\n",
        "      self.batch_size=batch_size\n",
        "      self.target_func = target_func\n",
        "      self.target_delay = target_delay\n",
        "\n",
        "  def act(self, state, epsilon):\n",
        "      if torch.rand(1).item() > epsilon:\n",
        "          q = self.q_model.evaluate(state).squeeze()\n",
        "          return q.argmax().unsqueeze(-1)\n",
        "      else:\n",
        "          return torch.randint(low=0, high=self.num_actions, size=(1,))\n",
        "\n",
        "  def update(self, state, action, reward, next_state, done):\n",
        "      self.t += 1\n",
        "      self.replay_buffer.push(state, action, reward, next_state, done)\n",
        "\n",
        "      if self.t % self.target_delay == 0:\n",
        "          self._q_target_model = deepcopy(self.q_model)\n",
        "      \n",
        "      if len(self.replay_buffer) > self.batch_size:\n",
        "          states, actions, rewards, next_states, dones = self.replay_buffer.sample(self.batch_size)\n",
        "          targets = self.target_func(states, actions, rewards, next_states, dones, self._q_target_model)\n",
        "          loss = self.q_model.train(states, actions, targets) \n",
        "          return loss\n",
        "      else:\n",
        "        return None   "
      ],
      "execution_count": null,
      "outputs": []
    },
    {
      "cell_type": "markdown",
      "metadata": {
        "id": "9_S9NXA2Udth"
      },
      "source": [
        "### TD0 Targets"
      ]
    },
    {
      "cell_type": "code",
      "metadata": {
        "id": "hIB8GceFOue-"
      },
      "source": [
        "# this is _fundamental_ as q values become highly numerically unstable without it (found out hard way) - Appendix B.1\n",
        "# the below is equivalent to tau*log(F.softmax(q/tau)) i.e. log soft-policy with temperature tau\n",
        "def log_policy_trick(q, tau):\n",
        "    q_max = q.max(dim=1).values.unsqueeze(-1)\n",
        "    return (q - q_max) - tau*torch.logsumexp((q-q_max)/tau, dim=1, keepdim=True)"
      ],
      "execution_count": null,
      "outputs": []
    },
    {
      "cell_type": "code",
      "metadata": {
        "id": "sE63mwRCTwa8"
      },
      "source": [
        "def td0_target(gamma):\n",
        "    def _f(states, actions, rewards, next_states, dones, q_model):\n",
        "        with torch.no_grad():\n",
        "            q = q_model.evaluate(states)\n",
        "            next_q = q_model.evaluate(next_states)\n",
        "            next_q_max  = next_q.max(dim=1).values.unsqueeze(-1)\n",
        "            return rewards + (1 - dones) * gamma * next_q_max \n",
        "    return _f"
      ],
      "execution_count": null,
      "outputs": []
    },
    {
      "cell_type": "code",
      "metadata": {
        "id": "Wls09ICsbt7O"
      },
      "source": [
        "def td0_soft_target(gamma, tau):\n",
        "    def _f(states, actions, rewards, next_states, dones, q_model):\n",
        "        with torch.no_grad():\n",
        "            q_next = q_model.evaluate(next_states)\n",
        "            pi_next = F.softmax(q_next/tau, dim=1)\n",
        "            tau_log_pi_next = log_policy_trick(q_next, tau)\n",
        "            soft_q_next = q_next - tau_log_pi_next\n",
        "            expected_soft_q_next = torch.bmm(pi_next.unsqueeze(1), soft_q_next.unsqueeze(-1)).squeeze(-1)\n",
        "            return rewards + (1 - dones) * gamma * expected_soft_q_next\n",
        "    return _f"
      ],
      "execution_count": null,
      "outputs": []
    },
    {
      "cell_type": "code",
      "metadata": {
        "id": "4t6jRaMOh5Am"
      },
      "source": [
        "# minimise moving parts!\n",
        "\n",
        "def td0_munch_target(gamma, alpha=0.9, tau=0.03):\n",
        "    soft_target_func = td0_soft_target(gamma=gamma, tau=tau)\n",
        "    def _f(states, actions, rewards, next_states, dones, q_model):\n",
        "        with torch.no_grad():\n",
        "            q = q_model.evaluate(states)\n",
        "            tau_log_policy = log_policy_trick(q, tau)\n",
        "            tau_log_policy_at_actions = tau_log_policy.gather(dim=1, index=actions)\n",
        "            soft_target = soft_target_func(states, actions, rewards, next_states, dones, q_model)\n",
        "            return alpha*tau_log_policy_at_actions + soft_target\n",
        "    return _f"
      ],
      "execution_count": null,
      "outputs": []
    },
    {
      "cell_type": "markdown",
      "metadata": {
        "id": "cPUlizE8vFwr"
      },
      "source": [
        "### Comparison"
      ]
    },
    {
      "cell_type": "code",
      "metadata": {
        "id": "wJAjTjplCTMX"
      },
      "source": [
        "USE_CUDA = torch.cuda.is_available()\n",
        "BATCH_SIZE = 32\n",
        "TARGET_DELAY = 2\n",
        "REPLAY_BUFFER_CAP = 10000\n",
        "CRITERION = nn.MSELoss()\n",
        "\n",
        "def build_mlp(num_states, num_actions, on_cuda=USE_CUDA):\n",
        "  network = nn.Sequential(\n",
        "        nn.Linear(num_states, 128),\n",
        "        nn.ReLU(),\n",
        "        nn.Linear(128, 128),\n",
        "        nn.ReLU(),\n",
        "        nn.Linear(128, num_actions)\n",
        "    )\n",
        "    \n",
        "  if on_cuda:\n",
        "      network = network.cuda()\n",
        "\n",
        "  return network\n",
        "\n",
        "def build_agent_with_target(num_states, num_actions, target_func):\n",
        "    mlp = build_mlp(num_states, num_actions, on_cuda=USE_CUDA)\n",
        "    optimizer = torch.optim.Adam(mlp.parameters())\n",
        "    q_model = QModel(\n",
        "        model=mlp, \n",
        "        criterion=CRITERION, \n",
        "        optimizer=optimizer,\n",
        "        on_cuda=USE_CUDA\n",
        "    )\n",
        "    replay_buffer = ReplayBuffer(REPLAY_BUFFER_CAP)\n",
        "    agent = DQNLikeAgent(\n",
        "        num_actions, \n",
        "        q_model, \n",
        "        replay_buffer,\n",
        "        target_func=target_func, \n",
        "        batch_size=BATCH_SIZE,\n",
        "        target_delay=TARGET_DELAY\n",
        "    )\n",
        "    return agent"
      ],
      "execution_count": null,
      "outputs": []
    },
    {
      "cell_type": "code",
      "metadata": {
        "id": "sDl5iFffvE5S"
      },
      "source": [
        "from tqdm.notebook import tqdm\n",
        "\n",
        "# Epsilon Greedy Exploration Schedule\n",
        "epsilon_start = 1.0\n",
        "epsilon_final = 0.01\n",
        "epsilon_decay = 500\n",
        "\n",
        "epsilon = lambda t: epsilon_final + (epsilon_start - epsilon_final) * np.exp(\n",
        "    -1. * t / epsilon_decay)\n",
        "\n",
        "def run_comparison(\n",
        "    env_id, \n",
        "    runs=5, \n",
        "    targets=None,\n",
        "    max_steps=int(1e4), \n",
        "    build_agent=build_agent_with_target\n",
        "):\n",
        "    if targets is None:\n",
        "      raise ValueError('Please specify targets')\n",
        "    env = gym.make(env_id)\n",
        "    torch_env = TorchEnvironmentWrapper(env)\n",
        "    num_states = torch_env.observation_space.shape[0]\n",
        "    num_actions = torch_env.action_space.n\n",
        "\n",
        "    results = {}\n",
        "    for target in tqdm(targets.items()):\n",
        "        name = target[0]\n",
        "        target = target[1]\n",
        "\n",
        "        results[name] = {'losses': [], 'rewards': [], 'qmodels': []}\n",
        "  \n",
        "        for _ in tqdm(list(range(runs))):\n",
        "          losses = []\n",
        "          rewards = []\n",
        "          episode_reward = 0\n",
        "\n",
        "          agent = build_agent(num_states, num_actions, target)\n",
        "\n",
        "          state = torch_env.reset()\n",
        "          for t in range(1, max_steps + 1):\n",
        "              action = agent.act(state, epsilon(t))\n",
        "              next_state, reward, done, _ = torch_env.step(action.item())\n",
        "              loss = agent.update(state, action, reward, next_state, done)\n",
        "              if loss is not None:\n",
        "                  losses.append(loss)\n",
        "              \n",
        "              state = next_state\n",
        "              episode_reward += reward.item()\n",
        "              \n",
        "              if done:\n",
        "                  state = torch_env.reset()\n",
        "                  rewards.append(episode_reward)\n",
        "                  episode_reward = 0\n",
        "\n",
        "          results[name]['losses'].append(losses)\n",
        "          results[name]['rewards'].append(rewards)\n",
        "          results[name]['qmodels'].append(agent._q_target_model)\n",
        "\n",
        "    return results\n",
        "\n",
        "def plot(results):\n",
        "    minim = 1e6\n",
        "    for result in results.items():\n",
        "        for rewards in result[1]['rewards']:\n",
        "            if len(rewards) < minim:\n",
        "                minim = len(rewards)\n",
        "      \n",
        "    up_to = minim\n",
        "    for result in results.items():\n",
        "        name = result[0]\n",
        "        rewards = np.array(list(map(lambda x: x[:up_to], result[1]['rewards'])))\n",
        "        mean, std = rewards.mean(axis=0), rewards.std(axis=0)\n",
        "        plt.plot(range(up_to), mean, label=name)\n",
        "        plt.fill_between(range(up_to), mean - std, mean + std, alpha=0.2)\n",
        "       \n",
        "    plt.legend()\n",
        "    plt.show()"
      ],
      "execution_count": null,
      "outputs": []
    },
    {
      "cell_type": "code",
      "metadata": {
        "colab": {
          "base_uri": "https://localhost:8080/",
          "height": 461,
          "referenced_widgets": [
            "44948dc2f18f4f8f8b36e7687fa3de5c",
            "cf30683cf8f94325945aaeda54d88352",
            "40dcff83fffd459883124ad79a9abdfb",
            "3ebf76a72b6142c38cacef5eb9770de3",
            "60e829274fcf442c936ff1e60ab010f7",
            "d76d4069210b420a8bc1f770ebaec8c4",
            "eb9fce61c209476a8d7cb08a8b82ebe4",
            "04f941e69cb348af83eb20c7a8d9eed8",
            "e5b97ec7fea74214acb1cccae4ba1961",
            "4f21231c7fb147f7a41d902032409c93",
            "0e90dbcd4cc84f50ba16d8872ff78f67",
            "08998fa5cc0841e4a507f8faf0eca599",
            "ce7011edadee461ea7f2523b1d310d22",
            "3de83e0495ef4603a589e691ddb9472e",
            "12a6ccf3e7cb4524ac798b0642c88b31",
            "679dcaf4943f457696446c473e7a3ec4",
            "b8b25bf86fa140f3bdabb066d578a566",
            "33667d51bd384b41a5da592de9f3af83",
            "32dfc56a45e44293935fb79c538b1ddf",
            "ee9335419a7442f79c5b96bb6f5779f2",
            "403294c277f54d59a3dbb63908985ce7",
            "3ad1c5ccbb0b48fcb5518af9c893b54b",
            "8d4f6a432f524566b9769f69b03535db",
            "0650988178b9466bbccd67a64179f533",
            "7035cc385e144309bda0fad2483519b8",
            "82aaef71e39746908bcd860bb75f9434",
            "a9dc0c523b054c34a83fb5f8a5e23434",
            "830956f26ca14cc884abcc085fd89f8b",
            "97c65d81e7f34493922ac28ab4bb436d",
            "3e2f7e14e8e94474bf08fbeae8c6259d",
            "844789daa8d54201881e16df72f9dea3",
            "ed3a1a8940b84686b455507a7d282c5d"
          ]
        },
        "id": "Nehnvgu7vvfB",
        "outputId": "1d3df2cf-db37-483b-e6ee-808b26e009e1"
      },
      "source": [
        "GAMMA = 0.99\n",
        "ALPHA = 0.9\n",
        "TAU = 0.03\n",
        "\n",
        "TD0_TARGET = td0_target(gamma=GAMMA)\n",
        "TD0_SOFT_TARGET = td0_soft_target(gamma=GAMMA, tau=TAU)\n",
        "TD0_MUNCH_TARGET = td0_munch_target(gamma=GAMMA, tau=TAU, alpha=ALPHA)\n",
        "\n",
        "targets = {\n",
        "  'greedy': TD0_TARGET,\n",
        "  'soft': TD0_SOFT_TARGET,\n",
        "  'munch': TD0_MUNCH_TARGET\n",
        "}\n",
        "\n",
        "results = run_comparison(\"CartPole-v0\", targets=targets, runs=5)\n",
        "plot(results)"
      ],
      "execution_count": null,
      "outputs": [
        {
          "output_type": "display_data",
          "data": {
            "application/vnd.jupyter.widget-view+json": {
              "model_id": "44948dc2f18f4f8f8b36e7687fa3de5c",
              "version_minor": 0,
              "version_major": 2
            },
            "text/plain": [
              "HBox(children=(FloatProgress(value=0.0, max=3.0), HTML(value='')))"
            ]
          },
          "metadata": {
            "tags": []
          }
        },
        {
          "output_type": "display_data",
          "data": {
            "application/vnd.jupyter.widget-view+json": {
              "model_id": "e5b97ec7fea74214acb1cccae4ba1961",
              "version_minor": 0,
              "version_major": 2
            },
            "text/plain": [
              "HBox(children=(FloatProgress(value=0.0, max=5.0), HTML(value='')))"
            ]
          },
          "metadata": {
            "tags": []
          }
        },
        {
          "output_type": "stream",
          "text": [
            "\n"
          ],
          "name": "stdout"
        },
        {
          "output_type": "display_data",
          "data": {
            "application/vnd.jupyter.widget-view+json": {
              "model_id": "b8b25bf86fa140f3bdabb066d578a566",
              "version_minor": 0,
              "version_major": 2
            },
            "text/plain": [
              "HBox(children=(FloatProgress(value=0.0, max=5.0), HTML(value='')))"
            ]
          },
          "metadata": {
            "tags": []
          }
        },
        {
          "output_type": "stream",
          "text": [
            "\n"
          ],
          "name": "stdout"
        },
        {
          "output_type": "display_data",
          "data": {
            "application/vnd.jupyter.widget-view+json": {
              "model_id": "7035cc385e144309bda0fad2483519b8",
              "version_minor": 0,
              "version_major": 2
            },
            "text/plain": [
              "HBox(children=(FloatProgress(value=0.0, max=5.0), HTML(value='')))"
            ]
          },
          "metadata": {
            "tags": []
          }
        },
        {
          "output_type": "stream",
          "text": [
            "\n",
            "\n"
          ],
          "name": "stdout"
        },
        {
          "output_type": "display_data",
          "data": {
            "image/png": "[encoded data removed]",
            "text/plain": [
              "<Figure size 432x288 with 1 Axes>"
            ]
          },
          "metadata": {
            "tags": [],
            "needs_background": "light"
          }
        }
      ]
    },
    {
      "cell_type": "markdown",
      "metadata": {
        "id": "i8P3YmG0WTQ1"
      },
      "source": [
        "What happens if I turn alpha higher? We'd expect it to slow down learning."
      ]
    },
    {
      "cell_type": "code",
      "metadata": {
        "colab": {
          "base_uri": "https://localhost:8080/",
          "height": 461,
          "referenced_widgets": [
            "6b2fd4b8d3174e3393b485177861022d",
            "d6123281cbf544229d8ca42e6e300040",
            "06ee4dc0f69440a0898a46b1b4ecae46",
            "5ae777931f8d40f0850083e38cbe5b00",
            "4b4c0d794fd842ef9b41f2006b9f5103",
            "254b27305652480283cd41e3fedf7a03",
            "a7356240993941b4906c4ff15b35bb93",
            "e1b427bd8008413fba02f93696c0f4c9",
            "46774e9ce27f403596199c013cd4c412",
            "918219edc1ca483293b0c4e5f3e219b2",
            "aa0e53ed7cde44f3974def07edd86774",
            "47dd6891aa9841589ab971e9f9e88d8b",
            "6d01aa22d4e4467b8c9122adbf50b18f",
            "bab28e7e6af3401d851856271650f950",
            "87d89a04a7964c088fcd1e5bf167a723",
            "6f4d4babfacc4168bb0ed55a3c5bba17",
            "c043c3a94f8046aa8101b0dc57a9f582",
            "b5dea4574e6843828d3546c149c76c72",
            "b220b2fe1d634ed7b81c608ef5bdf9ba",
            "f1ae80eca62a477984e464f7ff456d6d",
            "68d0d0c26aae4ad09bb70c9dc0a5e88f",
            "fb6798c16d434f3e99cfab449239b06e",
            "ffa6917950f249deb0655003cc93fc87",
            "6fd569fc1c064e71af8e43ff11494478",
            "4002ee3250994c44b4d3daf75263f61c",
            "703d1640a12c4bd9a82ed2abbe685732",
            "711870b049794e598d10421e2606e91c",
            "5830399bf4bc47d380efeadc6e6af968",
            "1059d73e6ead4bbe93178de40468c9bd",
            "4bd9e8380fdd4c5fbb1e189df4a3ce53",
            "79e53122e9fe4f93b98c744621907757",
            "726198a3045e4978a95e41b32280f3f8"
          ]
        },
        "id": "YAs1m3XqX6Hu",
        "outputId": "77e71d4c-2483-421e-e0ed-e7b695a9c90b"
      },
      "source": [
        "GAMMA = 0.99\n",
        "ALPHA = 0.99\n",
        "TAU = 0.03\n",
        "\n",
        "TD0_TARGET = td0_target(gamma=GAMMA)\n",
        "TD0_SOFT_TARGET = td0_soft_target(gamma=GAMMA, tau=TAU)\n",
        "TD0_MUNCH_TARGET = td0_munch_target(gamma=GAMMA, tau=TAU, alpha=ALPHA)\n",
        "\n",
        "targets = {\n",
        "  'greedy': TD0_TARGET,\n",
        "  'soft': TD0_SOFT_TARGET,\n",
        "  'munch': TD0_MUNCH_TARGET\n",
        "}\n",
        "\n",
        "results = run_comparison(\"CartPole-v0\", targets=targets, runs=5)\n",
        "plot(results)"
      ],
      "execution_count": null,
      "outputs": [
        {
          "output_type": "display_data",
          "data": {
            "application/vnd.jupyter.widget-view+json": {
              "model_id": "6b2fd4b8d3174e3393b485177861022d",
              "version_minor": 0,
              "version_major": 2
            },
            "text/plain": [
              "HBox(children=(FloatProgress(value=0.0, max=3.0), HTML(value='')))"
            ]
          },
          "metadata": {
            "tags": []
          }
        },
        {
          "output_type": "display_data",
          "data": {
            "application/vnd.jupyter.widget-view+json": {
              "model_id": "46774e9ce27f403596199c013cd4c412",
              "version_minor": 0,
              "version_major": 2
            },
            "text/plain": [
              "HBox(children=(FloatProgress(value=0.0, max=5.0), HTML(value='')))"
            ]
          },
          "metadata": {
            "tags": []
          }
        },
        {
          "output_type": "stream",
          "text": [
            "\n"
          ],
          "name": "stdout"
        },
        {
          "output_type": "display_data",
          "data": {
            "application/vnd.jupyter.widget-view+json": {
              "model_id": "c043c3a94f8046aa8101b0dc57a9f582",
              "version_minor": 0,
              "version_major": 2
            },
            "text/plain": [
              "HBox(children=(FloatProgress(value=0.0, max=5.0), HTML(value='')))"
            ]
          },
          "metadata": {
            "tags": []
          }
        },
        {
          "output_type": "stream",
          "text": [
            "\n"
          ],
          "name": "stdout"
        },
        {
          "output_type": "display_data",
          "data": {
            "application/vnd.jupyter.widget-view+json": {
              "model_id": "4002ee3250994c44b4d3daf75263f61c",
              "version_minor": 0,
              "version_major": 2
            },
            "text/plain": [
              "HBox(children=(FloatProgress(value=0.0, max=5.0), HTML(value='')))"
            ]
          },
          "metadata": {
            "tags": []
          }
        },
        {
          "output_type": "stream",
          "text": [
            "\n",
            "\n"
          ],
          "name": "stdout"
        },
        {
          "output_type": "display_data",
          "data": {
            "image/png": "[encoded data removed]",
            "text/plain": [
              "<Figure size 432x288 with 1 Axes>"
            ]
          },
          "metadata": {
            "tags": [],
            "needs_background": "light"
          }
        }
      ]
    },
    {
      "cell_type": "markdown",
      "metadata": {
        "id": "ZhWiIVTwgLtP"
      },
      "source": [
        "Seems to have slowed down learning indeed! So increasing alpha slows down learning, and simultaneously increases the action gap (in theory). What does the action gap look like?"
      ]
    },
    {
      "cell_type": "code",
      "metadata": {
        "colab": {
          "base_uri": "https://localhost:8080/",
          "height": 279
        },
        "id": "5-N5HhQho135",
        "outputId": "06b9cc8c-0a28-4d60-e2f0-63aff88be8f7"
      },
      "source": [
        "NUM_SAMPLES = 100\n",
        "samples = torch.randn(NUM_SAMPLES, 4)\n",
        "\n",
        "cmap = {'greedy': 'b', 'soft': 'orange', 'munch': 'g'}\n",
        "\n",
        "for result in results.items():\n",
        "  name = result[0]\n",
        "  qmodels = result[1]['qmodels']\n",
        "  for qmodel in qmodels:\n",
        "      q = qmodel.evaluate(samples)\n",
        "      gap = (q.max(dim=1, keepdim=True).values - q)\n",
        "      gap = gap.max(dim=1).values\n",
        "      plt.scatter(range(samples.shape[0]), np.log(gap.numpy()), label=name, c=cmap[name], s=5.0)\n",
        "      plt.ylabel('log(action gap)')\n",
        "      plt.xlabel('sample id')\n",
        "plt.show()"
      ],
      "execution_count": null,
      "outputs": [
        {
          "output_type": "display_data",
          "data": {
            "image/png": "[encoded data removed]",
            "text/plain": [
              "<Figure size 432x288 with 1 Axes>"
            ]
          },
          "metadata": {
            "tags": [],
            "needs_background": "light"
          }
        }
      ]
    },
    {
      "cell_type": "markdown",
      "metadata": {
        "id": "llgrzsrItSES"
      },
      "source": [
        "Woo! Munchausen! Intuitively makes sense that increased action gap <=> slower (but more stable) learning: there's more ground to cover to overtake the action gap when you're wrong."
      ]
    },
    {
      "cell_type": "markdown",
      "metadata": {
        "id": "XEdIZC-xuQIk"
      },
      "source": [
        "### Convergence Rates"
      ]
    },
    {
      "cell_type": "markdown",
      "metadata": {
        "id": "3nC9c85TvbMF"
      },
      "source": [
        "For $\\alpha = 1$ (which is not a good idea in practice), there is a provable bound for Munchausen VI: \n",
        "\n",
        "$$||q_* - q_{\\pi_k}||_\\infty \\leq \\frac{2}{1 - \\gamma} \\big|\\big| \\frac{1}{k} \\sum_{j=1}^k \\epsilon_j \\big| \\big|_\\infty + \\frac{4}{(1 - \\gamma)^2} \\frac{r_{max} + \\tau ln |\\mathcal{A}|}{k}$$\n",
        "\n",
        "Compared to typical propagation of errors of AVI without regularisation (such as DQN) found in [2]:\n",
        "\n",
        "$$||q_* - q_{\\pi_k}||_\\infty  \\leq \\frac{2\\gamma}{(1 - \\gamma)}\\sum_{j=1}^k \\gamma^{k-j} ||\\epsilon_j||_\\infty + \\frac{2}{1-\\gamma}\\gamma^kv_{max}$$"
      ]
    },
    {
      "cell_type": "markdown",
      "metadata": {
        "id": "5IA_Ms4NxrZ3"
      },
      "source": [
        "In the absence of error $\\epsilon_j = 0 \\forall j$, the convergence rate of DQN is faster $O(\\gamma^k)$ versus $O(\\frac{1}{k})$. However, if error is not zero, then M-VI has a preferable left-hand term since it takes an average over all errors before sup-norming, whereas AVI in general takes a recency-weighted sum over all previous errors. There is a weaker expression for error rates in the appendix for $0 \\leq \\alpha < 1$, but it's still got better properties than AVI/DQN."
      ]
    },
    {
      "cell_type": "markdown",
      "metadata": {
        "id": "PiwJVuuPzCXj"
      },
      "source": [
        "# Applicability"
      ]
    },
    {
      "cell_type": "markdown",
      "metadata": {
        "id": "wyw30Rb66b9r"
      },
      "source": [
        "### Principled, Effective, Simple, Cheap Regularisation for RL"
      ]
    },
    {
      "cell_type": "markdown",
      "metadata": {
        "id": "tZmEGwqJzLsf"
      },
      "source": [
        "**Effective regulariser for Reinforcement Learning:** Munchausen RL is a neat tool to add to the toolbox of methods to help stabilise deep RL. It's applicable in the sense of any regularisation method: it provides a practitioner with a hyperparameter to tune that might help them perform better in model-free RL, much like you might choose to use L1 or L2 regularisation in supervised learning, you can choose to do entropy regularisation and KL regularisation in RL.\n",
        "\n",
        "**Empirical results**: The empirical results in the paper are essentially in line with this. They demonstrate that you can modify existing RL-algorithms with a Munchausen term, and tune for better performance. It's like looking at a problem in SL, introducing an effective regulariser and showing that you can tune the performance to be better.\n",
        "\n"
      ]
    },
    {
      "cell_type": "markdown",
      "metadata": {
        "id": "HZZIPx6g0_gC"
      },
      "source": [
        "### Shortcomings/Inapplicabilities\n",
        "\n",
        "\n",
        "\n",
        "**Sparse rewards:** Munchausen regularisation is **not** a good idea in a setting where **exploration is key to success**. I don't think this is explicitly mentioned anywhere in the paper, but intuitively KL regularisation prevents you from reacting to information quickly. In the extreme example of **sparse** rewards, the implicit KL regularisation induced by the Munchausen term will cause the policy to **never be able to leave its initialisation**, (unless you get very lucky and the initial policy sets the agent up for a trajectory that actually hits some reward).\n",
        "\n",
        "\n",
        "**Continuous setting:** The subtle brilliance of this idea is that it avoids approximation error in the policy update step, which means that **even with value approximation error you are guaranteed** to be doing _actual_ KL regularisation. However, if we were to try to migrate to the continuous case, we would run into **problems with using an actor** to maximise the value function to perform the policy update. Of course, these \"problems\" are only theoretical, it may be the case that the idea still works empirically, i.e. if the policy update error is sufficiently small."
      ]
    },
    {
      "cell_type": "markdown",
      "metadata": {
        "id": "I4R5kYTQFD50"
      },
      "source": [
        "\n",
        "\n",
        "Relies heavily on theory from\n",
        "\n",
        "[1]:  Geist et. al, A Theory of Regularized MDPs, ICML 2019.\n",
        "\n",
        "[2]: Vieillard et. al, Leverage the Average: an Analysis of KL Regularization in Reinforcement Learning, NeurIPS 2020."
      ]
    },
    {
      "cell_type": "markdown",
      "metadata": {
        "id": "q2w_ZjiU6v7Y"
      },
      "source": [
        "Thanks for listening!"
      ]
    },
    {
      "cell_type": "markdown",
      "metadata": {
        "id": "me0JKah06pqB"
      },
      "source": [
        "___\n",
        "___\n",
        "___"
      ]
    },
    {
      "cell_type": "code",
      "metadata": {
        "id": "6bMeL5Nk6u0S"
      },
      "source": [
        ""
      ],
      "execution_count": null,
      "outputs": []
    },
    {
      "cell_type": "code",
      "metadata": {
        "id": "r18WeeUL6uyh"
      },
      "source": [
        ""
      ],
      "execution_count": null,
      "outputs": []
    },
    {
      "cell_type": "code",
      "metadata": {
        "id": "IXyzbGAX6uwQ"
      },
      "source": [
        ""
      ],
      "execution_count": null,
      "outputs": []
    },
    {
      "cell_type": "code",
      "metadata": {
        "id": "XyXNhMLXTxJt"
      },
      "source": [
        "def noisy(target_func, sigma=100.0):\n",
        "    def _f(states, actions, rewards, next_states, dones, q_model):\n",
        "        target = target_func(states, actions, rewards, next_states, dones, q_model)\n",
        "        return target + sigma*torch.randn_like(target)\n",
        "    return _f\n"
      ],
      "execution_count": null,
      "outputs": []
    },
    {
      "cell_type": "code",
      "metadata": {
        "colab": {
          "base_uri": "https://localhost:8080/",
          "height": 461,
          "referenced_widgets": [
            "88d0b95a4e974a3eaf966e2567d28760",
            "cf00f04611884e4184587b4e1f9ef633",
            "c6edd75bf0794ae0ac4e155e6694dddd",
            "8d6d6b37f7484076939c6daaa21b6bb7",
            "a37255fd72cc40b99caca1f9482fa7ef",
            "828ddefd02d84fef85ec5b5de43e4602",
            "e90ef94a3c4744be885ff87177d68fd8",
            "0e9ebb4f6e8e450f9e6a351f15eb0891",
            "aef9d0a1280a4944a651a5a15456d2ec",
            "f9ea4a5d5f92426cbe6c1d725f3a58de",
            "e12502e57ed4477abc3e0ba0a41efc27",
            "f4c12eaa8bae4eb9aaced28b4b2ff978",
            "607277e06d334f5285278fbfeb0d198a",
            "7de1cdf5407a444899fd0e6d204f0896",
            "8ec1af6a3aef4bee87470df2d96626e8",
            "c6e46145f53347c08ed76ba4dc8a38cb",
            "ed94ad73322141969a136fa49dc6089e",
            "ee3d49ce338b4be29a460a875a3708d9",
            "7898015e4c1f4f68822e9b31449cffd1",
            "f62eb9f7f7164a6c9acb981195d740b0",
            "7179fb630aed4d6b9436a67a2ecfb46f",
            "31212ec2da374c4c9a44cdf8dd05bbfa",
            "77633b0a07634aa2b3666ca6b99cfca9",
            "64ab35638dad4b8bb91053240ef8dc97",
            "27fe77dc42d04c37b4d93df0cf5d2917",
            "cdf8f72b1d9c446e9b2e92983a7be50b",
            "e1b748655a974c3a8ba2d3dff6ead00a",
            "c92ec88059f74e9293fa7dce2074a011",
            "45378e12fa6748aea044fc149030bdf4",
            "95ae37734de94bb48dfefcad81689b8e",
            "bbe2ccbedcc1466cac10bbba6a6eaed1",
            "b796810173d4431d90ef1dfb9fbbc0a5"
          ]
        },
        "id": "jl12SEIxUy2W",
        "outputId": "39cb915e-5551-4457-9db2-658e30da790f"
      },
      "source": [
        "greedy, soft, munch = run_comparison(\"CartPole-v0\", runs=5)\n",
        "plot(greedy, soft, munch)"
      ],
      "execution_count": null,
      "outputs": [
        {
          "output_type": "display_data",
          "data": {
            "application/vnd.jupyter.widget-view+json": {
              "model_id": "88d0b95a4e974a3eaf966e2567d28760",
              "version_major": 2,
              "version_minor": 0
            },
            "text/plain": [
              "HBox(children=(FloatProgress(value=0.0, max=3.0), HTML(value='')))"
            ]
          },
          "metadata": {
            "tags": []
          }
        },
        {
          "output_type": "display_data",
          "data": {
            "application/vnd.jupyter.widget-view+json": {
              "model_id": "aef9d0a1280a4944a651a5a15456d2ec",
              "version_major": 2,
              "version_minor": 0
            },
            "text/plain": [
              "HBox(children=(FloatProgress(value=0.0, max=5.0), HTML(value='')))"
            ]
          },
          "metadata": {
            "tags": []
          }
        },
        {
          "output_type": "stream",
          "text": [
            "\n"
          ],
          "name": "stdout"
        },
        {
          "output_type": "display_data",
          "data": {
            "application/vnd.jupyter.widget-view+json": {
              "model_id": "ed94ad73322141969a136fa49dc6089e",
              "version_major": 2,
              "version_minor": 0
            },
            "text/plain": [
              "HBox(children=(FloatProgress(value=0.0, max=5.0), HTML(value='')))"
            ]
          },
          "metadata": {
            "tags": []
          }
        },
        {
          "output_type": "stream",
          "text": [
            "\n"
          ],
          "name": "stdout"
        },
        {
          "output_type": "display_data",
          "data": {
            "application/vnd.jupyter.widget-view+json": {
              "model_id": "27fe77dc42d04c37b4d93df0cf5d2917",
              "version_major": 2,
              "version_minor": 0
            },
            "text/plain": [
              "HBox(children=(FloatProgress(value=0.0, max=5.0), HTML(value='')))"
            ]
          },
          "metadata": {
            "tags": []
          }
        },
        {
          "output_type": "stream",
          "text": [
            "\n",
            "\n"
          ],
          "name": "stdout"
        },
        {
          "output_type": "display_data",
          "data": {
            "image/png": "[encoded data removed]",
            "text/plain": [
              "<Figure size 432x288 with 1 Axes>"
            ]
          },
          "metadata": {
            "tags": []
          }
        }
      ]
    },
    {
      "cell_type": "code",
      "metadata": {
        "id": "WtXAkP3Ax7Fy"
      },
      "source": [
        "# Bloopers: tried to show it is more stable "
      ],
      "execution_count": null,
      "outputs": []
    }
  ]
}